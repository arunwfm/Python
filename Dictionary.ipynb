{
 "cells": [
  {
   "cell_type": "code",
   "execution_count": 1,
   "id": "15e3abcd-a0ba-4a1f-be06-39c41b61fb24",
   "metadata": {},
   "outputs": [],
   "source": [
    "d = {}"
   ]
  },
  {
   "cell_type": "code",
   "execution_count": 2,
   "id": "07443043-49d4-4e4c-80ad-e6f25065fe81",
   "metadata": {},
   "outputs": [
    {
     "data": {
      "text/plain": [
       "dict"
      ]
     },
     "execution_count": 2,
     "metadata": {},
     "output_type": "execute_result"
    }
   ],
   "source": [
    "type(d)"
   ]
  },
  {
   "cell_type": "code",
   "execution_count": 4,
   "id": "2c4263cc-8dae-47e7-8c33-d62b3e7b5a45",
   "metadata": {},
   "outputs": [],
   "source": [
    "d1={'key':'value'}"
   ]
  },
  {
   "cell_type": "code",
   "execution_count": 5,
   "id": "ec910328-d5ca-4396-99b7-96edb427cfc1",
   "metadata": {},
   "outputs": [
    {
     "data": {
      "text/plain": [
       "{'key': 'value'}"
      ]
     },
     "execution_count": 5,
     "metadata": {},
     "output_type": "execute_result"
    }
   ],
   "source": [
    "d1"
   ]
  },
  {
   "cell_type": "code",
   "execution_count": 6,
   "id": "da1fc9c8-a6b7-458a-8991-dd62366986d7",
   "metadata": {},
   "outputs": [],
   "source": [
    "d2 = {'name' : 'arun', 'email' : 'arunwfm@gmail.com', 'number' : 1234567891}"
   ]
  },
  {
   "cell_type": "code",
   "execution_count": 7,
   "id": "77bd9ba5-aa5c-4de7-86ae-7d306ae21061",
   "metadata": {},
   "outputs": [
    {
     "data": {
      "text/plain": [
       "{'name': 'arun', 'email': 'arunwfm@gmail.com', 'number': 1234567891}"
      ]
     },
     "execution_count": 7,
     "metadata": {},
     "output_type": "execute_result"
    }
   ],
   "source": [
    "d2"
   ]
  },
  {
   "cell_type": "code",
   "execution_count": 11,
   "id": "bf859892-ef4a-4439-8102-88bb16b03c10",
   "metadata": {},
   "outputs": [],
   "source": [
    "d3 = {1234:'arun', '_ar' : 'arun', True : 123456}"
   ]
  },
  {
   "cell_type": "code",
   "execution_count": 12,
   "id": "27e54f34-e336-49a4-9330-ba6457d3ec16",
   "metadata": {},
   "outputs": [
    {
     "data": {
      "text/plain": [
       "'arun'"
      ]
     },
     "execution_count": 12,
     "metadata": {},
     "output_type": "execute_result"
    }
   ],
   "source": [
    "d3[1234]"
   ]
  },
  {
   "cell_type": "code",
   "execution_count": 13,
   "id": "ff3735a9-7763-4218-8b89-b5c0b73d6604",
   "metadata": {},
   "outputs": [
    {
     "data": {
      "text/plain": [
       "123456"
      ]
     },
     "execution_count": 13,
     "metadata": {},
     "output_type": "execute_result"
    }
   ],
   "source": [
    "d3[True]"
   ]
  },
  {
   "cell_type": "code",
   "execution_count": 14,
   "id": "94265480-f226-45b9-9306-1c69ccd70b72",
   "metadata": {},
   "outputs": [
    {
     "data": {
      "text/plain": [
       "123456"
      ]
     },
     "execution_count": 14,
     "metadata": {},
     "output_type": "execute_result"
    }
   ],
   "source": [
    "d3[1]"
   ]
  },
  {
   "cell_type": "code",
   "execution_count": 17,
   "id": "5d814760-d31b-4286-b338-15abe073dd4a",
   "metadata": {},
   "outputs": [],
   "source": [
    "d4={'name' : 'arun', 'email' : 'mail_id@gmail.com', 'name' :'kumar'}"
   ]
  },
  {
   "cell_type": "code",
   "execution_count": 18,
   "id": "0c26dfa7-0707-4117-9060-cfd01c229e36",
   "metadata": {},
   "outputs": [
    {
     "data": {
      "text/plain": [
       "'kumar'"
      ]
     },
     "execution_count": 18,
     "metadata": {},
     "output_type": "execute_result"
    }
   ],
   "source": [
    "d4['name']"
   ]
  },
  {
   "cell_type": "code",
   "execution_count": 19,
   "id": "d5dd7824-a45f-4561-a936-54a6d731024a",
   "metadata": {},
   "outputs": [],
   "source": [
    "d5 = {'company' : 'PWskills', 'course' : ['data science', 'web dev', 'java','c++']}"
   ]
  },
  {
   "cell_type": "code",
   "execution_count": 20,
   "id": "31272816-3e2a-4e31-8d58-68d8bd6a2f5f",
   "metadata": {},
   "outputs": [
    {
     "data": {
      "text/plain": [
       "{'company': 'PWskills', 'course': ['data science', 'web dev', 'java', 'c++']}"
      ]
     },
     "execution_count": 20,
     "metadata": {},
     "output_type": "execute_result"
    }
   ],
   "source": [
    "d5"
   ]
  },
  {
   "cell_type": "code",
   "execution_count": 23,
   "id": "6fb55d8a-459d-4825-ade5-a6852cca05b3",
   "metadata": {},
   "outputs": [
    {
     "data": {
      "text/plain": [
       "'java'"
      ]
     },
     "execution_count": 23,
     "metadata": {},
     "output_type": "execute_result"
    }
   ],
   "source": [
    "d5['course'][2]"
   ]
  },
  {
   "cell_type": "code",
   "execution_count": 27,
   "id": "60904f45-544e-4954-92bf-f14038a7956e",
   "metadata": {},
   "outputs": [],
   "source": [
    "d6 = {'number' : [12,13,5,4,6,7,8], 'assignment': (2,3,5,4,6,8,7,9,6), 'launch date' : {28, 12, 14},'class_time' : {'web dev' : '8 pm', 'python' : '7 pm'}}"
   ]
  },
  {
   "cell_type": "code",
   "execution_count": 28,
   "id": "5b08f28a-d9aa-486f-bd23-66909b95e822",
   "metadata": {},
   "outputs": [
    {
     "data": {
      "text/plain": [
       "{'number': [12, 13, 5, 4, 6, 7, 8],\n",
       " 'assignment': (2, 3, 5, 4, 6, 8, 7, 9, 6),\n",
       " 'launch date': {12, 14, 28},\n",
       " 'class_time': {'web dev': '8 pm', 'python': '7 pm'}}"
      ]
     },
     "execution_count": 28,
     "metadata": {},
     "output_type": "execute_result"
    }
   ],
   "source": [
    "d6"
   ]
  },
  {
   "cell_type": "code",
   "execution_count": 29,
   "id": "92b649fc-ee05-43fd-9ba3-4ba90b513e42",
   "metadata": {},
   "outputs": [
    {
     "data": {
      "text/plain": [
       "'7 pm'"
      ]
     },
     "execution_count": 29,
     "metadata": {},
     "output_type": "execute_result"
    }
   ],
   "source": [
    "d6['class_time']['python']"
   ]
  },
  {
   "cell_type": "code",
   "execution_count": 30,
   "id": "473603f1-5491-4b62-9191-9126d61bbdf5",
   "metadata": {},
   "outputs": [
    {
     "data": {
      "text/plain": [
       "{'number': [12, 13, 5, 4, 6, 7, 8],\n",
       " 'assignment': (2, 3, 5, 4, 6, 8, 7, 9, 6),\n",
       " 'launch date': {12, 14, 28},\n",
       " 'class_time': {'web dev': '8 pm', 'python': '7 pm'}}"
      ]
     },
     "execution_count": 30,
     "metadata": {},
     "output_type": "execute_result"
    }
   ],
   "source": [
    "d6"
   ]
  },
  {
   "cell_type": "code",
   "execution_count": 32,
   "id": "23d32583-6b56-4dac-a772-02457ae20abc",
   "metadata": {},
   "outputs": [],
   "source": [
    "d6['mentor'] = ['Arun','Kumar','Singh']"
   ]
  },
  {
   "cell_type": "code",
   "execution_count": 33,
   "id": "e6a6345d-34dc-487c-bd7c-432053722afe",
   "metadata": {},
   "outputs": [
    {
     "data": {
      "text/plain": [
       "{'number': [12, 13, 5, 4, 6, 7, 8],\n",
       " 'assignment': (2, 3, 5, 4, 6, 8, 7, 9, 6),\n",
       " 'launch date': {12, 14, 28},\n",
       " 'class_time': {'web dev': '8 pm', 'python': '7 pm'},\n",
       " 'mentor': ['Arun', 'Kumar', 'Singh']}"
      ]
     },
     "execution_count": 33,
     "metadata": {},
     "output_type": "execute_result"
    }
   ],
   "source": [
    "d6"
   ]
  },
  {
   "cell_type": "code",
   "execution_count": 36,
   "id": "007ba126-3e18-4d51-8e40-8fca7891b319",
   "metadata": {},
   "outputs": [],
   "source": [
    "del d6['number']"
   ]
  },
  {
   "cell_type": "code",
   "execution_count": 37,
   "id": "04c185cb-aed5-4499-9906-18873c417f64",
   "metadata": {},
   "outputs": [
    {
     "data": {
      "text/plain": [
       "{'assignment': (2, 3, 5, 4, 6, 8, 7, 9, 6),\n",
       " 'launch date': {12, 14, 28},\n",
       " 'class_time': {'web dev': '8 pm', 'python': '7 pm'},\n",
       " 'mentor': ['Arun', 'Kumar', 'Singh']}"
      ]
     },
     "execution_count": 37,
     "metadata": {},
     "output_type": "execute_result"
    }
   ],
   "source": [
    "d6"
   ]
  },
  {
   "cell_type": "code",
   "execution_count": 38,
   "id": "0206c1f8-86ba-44bb-967d-dbb1af6b3bcd",
   "metadata": {},
   "outputs": [
    {
     "data": {
      "text/plain": [
       "dict_keys(['assignment', 'launch date', 'class_time', 'mentor'])"
      ]
     },
     "execution_count": 38,
     "metadata": {},
     "output_type": "execute_result"
    }
   ],
   "source": [
    "d6.keys()"
   ]
  },
  {
   "cell_type": "code",
   "execution_count": 39,
   "id": "1bec084a-b008-4c98-b77d-f840dd99eaa9",
   "metadata": {},
   "outputs": [
    {
     "data": {
      "text/plain": [
       "['assignment', 'launch date', 'class_time', 'mentor']"
      ]
     },
     "execution_count": 39,
     "metadata": {},
     "output_type": "execute_result"
    }
   ],
   "source": [
    "list(d6.keys())"
   ]
  },
  {
   "cell_type": "code",
   "execution_count": 41,
   "id": "a5d4a860-de6a-4fac-82b7-84a874984b1f",
   "metadata": {},
   "outputs": [
    {
     "data": {
      "text/plain": [
       "[(2, 3, 5, 4, 6, 8, 7, 9, 6),\n",
       " {12, 14, 28},\n",
       " {'web dev': '8 pm', 'python': '7 pm'},\n",
       " ['Arun', 'Kumar', 'Singh']]"
      ]
     },
     "execution_count": 41,
     "metadata": {},
     "output_type": "execute_result"
    }
   ],
   "source": [
    "list(d6.values())"
   ]
  },
  {
   "cell_type": "code",
   "execution_count": 43,
   "id": "5a4ef0ba-aea0-4b0f-8045-5ac780fe08de",
   "metadata": {},
   "outputs": [
    {
     "data": {
      "text/plain": [
       "[('assignment', (2, 3, 5, 4, 6, 8, 7, 9, 6)),\n",
       " ('launch date', {12, 14, 28}),\n",
       " ('class_time', {'web dev': '8 pm', 'python': '7 pm'}),\n",
       " ('mentor', ['Arun', 'Kumar', 'Singh'])]"
      ]
     },
     "execution_count": 43,
     "metadata": {},
     "output_type": "execute_result"
    }
   ],
   "source": [
    "list(d6.items())"
   ]
  },
  {
   "cell_type": "code",
   "execution_count": 46,
   "id": "e3924417-ce04-400a-9255-42c0549a5cf7",
   "metadata": {},
   "outputs": [],
   "source": [
    "d6['location'] = 'Mumbai'"
   ]
  },
  {
   "cell_type": "code",
   "execution_count": 47,
   "id": "b53d3483-c5b3-4c3e-b72b-a419167c0609",
   "metadata": {},
   "outputs": [
    {
     "data": {
      "text/plain": [
       "{'assignment': (2, 3, 5, 4, 6, 8, 7, 9, 6),\n",
       " 'launch date': {12, 14, 28},\n",
       " 'class_time': {'web dev': '8 pm', 'python': '7 pm'},\n",
       " 'mentor': ['Arun', 'Kumar', 'Singh'],\n",
       " 'location': 'Mumbai'}"
      ]
     },
     "execution_count": 47,
     "metadata": {},
     "output_type": "execute_result"
    }
   ],
   "source": [
    "d6"
   ]
  },
  {
   "cell_type": "code",
   "execution_count": 48,
   "id": "4b03ff8a-b6f6-44ae-9c15-941c33ebfe7b",
   "metadata": {},
   "outputs": [
    {
     "data": {
      "text/plain": [
       "'Mumbai'"
      ]
     },
     "execution_count": 48,
     "metadata": {},
     "output_type": "execute_result"
    }
   ],
   "source": [
    "d6.pop('location')"
   ]
  },
  {
   "cell_type": "code",
   "execution_count": 49,
   "id": "9c9d6de5-eb79-4063-8436-8a73a706416d",
   "metadata": {},
   "outputs": [
    {
     "data": {
      "text/plain": [
       "{'assignment': (2, 3, 5, 4, 6, 8, 7, 9, 6),\n",
       " 'launch date': {12, 14, 28},\n",
       " 'class_time': {'web dev': '8 pm', 'python': '7 pm'},\n",
       " 'mentor': ['Arun', 'Kumar', 'Singh']}"
      ]
     },
     "execution_count": 49,
     "metadata": {},
     "output_type": "execute_result"
    }
   ],
   "source": [
    "d6"
   ]
  },
  {
   "cell_type": "code",
   "execution_count": null,
   "id": "694a64e4-2bb1-45a5-8e63-0246417cb038",
   "metadata": {},
   "outputs": [],
   "source": []
  }
 ],
 "metadata": {
  "kernelspec": {
   "display_name": "Python 3 (ipykernel)",
   "language": "python",
   "name": "python3"
  },
  "language_info": {
   "codemirror_mode": {
    "name": "ipython",
    "version": 3
   },
   "file_extension": ".py",
   "mimetype": "text/x-python",
   "name": "python",
   "nbconvert_exporter": "python",
   "pygments_lexer": "ipython3",
   "version": "3.12.3"
  }
 },
 "nbformat": 4,
 "nbformat_minor": 5
}
