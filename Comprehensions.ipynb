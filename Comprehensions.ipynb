{
 "cells": [
  {
   "cell_type": "code",
   "execution_count": 2,
   "id": "e577fa49-3634-447c-8a0e-e8b85911e557",
   "metadata": {},
   "outputs": [
    {
     "data": {
      "text/plain": [
       "[1, 4, 9, 16, 2025, 25]"
      ]
     },
     "execution_count": 2,
     "metadata": {},
     "output_type": "execute_result"
    }
   ],
   "source": [
    "l = [1,2,3,4,45,5]\n",
    "l1 = []\n",
    "for i in l:\n",
    "    l1.append(i**2)\n",
    "l1"
   ]
  },
  {
   "cell_type": "code",
   "execution_count": 3,
   "id": "fa6e63d3-d046-4640-ba3f-0582a35b4825",
   "metadata": {},
   "outputs": [
    {
     "data": {
      "text/plain": [
       "[1, 2, 3, 4, 45, 5]"
      ]
     },
     "execution_count": 3,
     "metadata": {},
     "output_type": "execute_result"
    }
   ],
   "source": [
    "l"
   ]
  },
  {
   "cell_type": "code",
   "execution_count": 4,
   "id": "aab583a8-eb07-43da-95ea-ca7967f0ce7e",
   "metadata": {},
   "outputs": [
    {
     "data": {
      "text/plain": [
       "[1, 4, 9, 16, 2025, 25]"
      ]
     },
     "execution_count": 4,
     "metadata": {},
     "output_type": "execute_result"
    }
   ],
   "source": [
    "#comprehension - list comprehension\n",
    "[i**2 for i in l]"
   ]
  },
  {
   "cell_type": "code",
   "execution_count": 5,
   "id": "70623ce3-2909-4c75-85c2-bb2064f0cc9b",
   "metadata": {},
   "outputs": [],
   "source": [
    "# extract evek number from list l"
   ]
  },
  {
   "cell_type": "code",
   "execution_count": 6,
   "id": "58e6aff4-7030-47b2-bafe-6b52c6e09477",
   "metadata": {},
   "outputs": [
    {
     "data": {
      "text/plain": [
       "[1, 2, 3, 4, 45, 5]"
      ]
     },
     "execution_count": 6,
     "metadata": {},
     "output_type": "execute_result"
    }
   ],
   "source": [
    "l"
   ]
  },
  {
   "cell_type": "code",
   "execution_count": 8,
   "id": "4eef05c6-8a0a-460f-a34e-3f5cb2af81e6",
   "metadata": {},
   "outputs": [
    {
     "data": {
      "text/plain": [
       "[2, 4]"
      ]
     },
     "execution_count": 8,
     "metadata": {},
     "output_type": "execute_result"
    }
   ],
   "source": [
    "[i for i in l if i%2 ==0]"
   ]
  },
  {
   "cell_type": "code",
   "execution_count": 9,
   "id": "b0026711-6845-464a-b3dd-3aef5c42746d",
   "metadata": {},
   "outputs": [],
   "source": [
    "#convert string to upper case\n",
    "l1 = [\"arun\",\"pwskills\",\"kumar\",\"data science masters\"]"
   ]
  },
  {
   "cell_type": "code",
   "execution_count": 11,
   "id": "85eadaa9-0c5d-4f1b-b48e-72b6bed25c29",
   "metadata": {},
   "outputs": [
    {
     "data": {
      "text/plain": [
       "['ARUN', 'PWSKILLS', 'KUMAR', 'DATA SCIENCE MASTERS']"
      ]
     },
     "execution_count": 11,
     "metadata": {},
     "output_type": "execute_result"
    }
   ],
   "source": [
    "[i.upper() for i in l1]"
   ]
  },
  {
   "cell_type": "code",
   "execution_count": 12,
   "id": "62219a2c-1a99-4e95-ba33-b8d850b09d39",
   "metadata": {},
   "outputs": [],
   "source": [
    "# Dictionay comprehension"
   ]
  },
  {
   "cell_type": "code",
   "execution_count": 13,
   "id": "d0ff6b8a-5adc-4548-8c12-3e4c2815383d",
   "metadata": {},
   "outputs": [],
   "source": [
    "d = {\"key1\":1,\"key2\":2, \"key3\":3, \"key4\" : 4}"
   ]
  },
  {
   "cell_type": "code",
   "execution_count": 17,
   "id": "188ba290-e06f-4ebb-ae9b-a9d9e8fdc881",
   "metadata": {},
   "outputs": [
    {
     "data": {
      "text/plain": [
       "{'key1': 1, 'key2': 4, 'key3': 9, 'key4': 16}"
      ]
     },
     "execution_count": 17,
     "metadata": {},
     "output_type": "execute_result"
    }
   ],
   "source": [
    "{k:v**2 for k,v in d.items()}"
   ]
  },
  {
   "cell_type": "code",
   "execution_count": 18,
   "id": "fc591e50-a314-4b6f-bb50-a5c251edc912",
   "metadata": {},
   "outputs": [
    {
     "data": {
      "text/plain": [
       "{'key1': 1, 'key2': 2, 'key3': 3, 'key4': 4}"
      ]
     },
     "execution_count": 18,
     "metadata": {},
     "output_type": "execute_result"
    }
   ],
   "source": [
    "d"
   ]
  },
  {
   "cell_type": "code",
   "execution_count": 20,
   "id": "5ca22bf1-c282-4a66-aa05-b725da7c2a2e",
   "metadata": {},
   "outputs": [
    {
     "data": {
      "text/plain": [
       "{'key2': 2, 'key3': 3, 'key4': 4}"
      ]
     },
     "execution_count": 20,
     "metadata": {},
     "output_type": "execute_result"
    }
   ],
   "source": [
    "#extract value greater than 1\n",
    "{k:v for k, v in d.items() if v >1}"
   ]
  },
  {
   "cell_type": "code",
   "execution_count": null,
   "id": "12867c5c-132a-4816-86b3-f9ba17c2f955",
   "metadata": {},
   "outputs": [],
   "source": []
  }
 ],
 "metadata": {
  "kernelspec": {
   "display_name": "Python 3 (ipykernel)",
   "language": "python",
   "name": "python3"
  },
  "language_info": {
   "codemirror_mode": {
    "name": "ipython",
    "version": 3
   },
   "file_extension": ".py",
   "mimetype": "text/x-python",
   "name": "python",
   "nbconvert_exporter": "python",
   "pygments_lexer": "ipython3",
   "version": "3.12.3"
  }
 },
 "nbformat": 4,
 "nbformat_minor": 5
}
