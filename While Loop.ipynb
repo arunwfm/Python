{
 "cells": [
  {
   "cell_type": "code",
   "execution_count": 2,
   "id": "865e147b-6cfb-4474-bb88-a4b75db04496",
   "metadata": {},
   "outputs": [
    {
     "name": "stdout",
     "output_type": "stream",
     "text": [
      "1\n",
      "2\n",
      "3\n",
      "4\n",
      "5\n",
      "6\n",
      "7\n",
      "8\n",
      "9\n",
      "10\n"
     ]
    }
   ],
   "source": [
    "a = 1\n",
    "while a<=10:\n",
    "    print(a)\n",
    "    a = a+1"
   ]
  },
  {
   "cell_type": "code",
   "execution_count": 3,
   "id": "8470df49-791e-4024-9afa-acad177d6c9e",
   "metadata": {},
   "outputs": [],
   "source": [
    "# sum up the number till sum point"
   ]
  },
  {
   "cell_type": "code",
   "execution_count": 4,
   "id": "a81618f8-64fd-40d7-8cb5-5207968df77e",
   "metadata": {},
   "outputs": [
    {
     "name": "stdin",
     "output_type": "stream",
     "text": [
      "Enter your limit 5\n"
     ]
    },
    {
     "data": {
      "text/plain": [
       "15"
      ]
     },
     "execution_count": 4,
     "metadata": {},
     "output_type": "execute_result"
    }
   ],
   "source": [
    "n = int(input(\"Enter your limit\"))\n",
    "starting_point = 0\n",
    "counter = 1\n",
    "while counter <= n:\n",
    "    starting_point = starting_point + counter\n",
    "    counter = counter + 1\n",
    "starting_point"
   ]
  },
  {
   "cell_type": "code",
   "execution_count": 5,
   "id": "0ea7d5f9-5a47-4134-9a24-cb650aad6eec",
   "metadata": {},
   "outputs": [],
   "source": [
    "#factorial"
   ]
  },
  {
   "cell_type": "code",
   "execution_count": 7,
   "id": "372b3625-78dd-4415-9d4d-97dcfed6ba5e",
   "metadata": {},
   "outputs": [
    {
     "name": "stdin",
     "output_type": "stream",
     "text": [
      "Enter your number 3\n"
     ]
    },
    {
     "data": {
      "text/plain": [
       "6"
      ]
     },
     "execution_count": 7,
     "metadata": {},
     "output_type": "execute_result"
    }
   ],
   "source": [
    "number = int(input(\"Enter your number\"))\n",
    "factorial = 1\n",
    "while number >0:\n",
    "    factorial = factorial * number\n",
    "    number = number - 1\n",
    "factorial"
   ]
  },
  {
   "cell_type": "code",
   "execution_count": 9,
   "id": "aa8f4508-b5d0-4279-9373-b501d090e75a",
   "metadata": {},
   "outputs": [],
   "source": [
    "#Fibonacci series i.e next number is the summation of previous two number"
   ]
  },
  {
   "cell_type": "code",
   "execution_count": 10,
   "id": "1a823102-af0c-4445-9a01-d81e8d6edf3c",
   "metadata": {},
   "outputs": [
    {
     "name": "stdin",
     "output_type": "stream",
     "text": [
      "Enter the number of elements you are looking for 10\n"
     ]
    },
    {
     "name": "stdout",
     "output_type": "stream",
     "text": [
      "0\n",
      "1\n",
      "1\n",
      "2\n",
      "3\n",
      "5\n",
      "8\n",
      "13\n",
      "21\n",
      "34\n"
     ]
    }
   ],
   "source": [
    "number = int(input(\"Enter the number of elements you are looking for\" ))\n",
    "a , b = 0 , 1\n",
    "counter = 0\n",
    "while counter < number:\n",
    "    print(a)\n",
    "    c = a + b\n",
    "    a = b\n",
    "    b = c\n",
    "    counter = counter +1\n",
    "    \n",
    "    "
   ]
  },
  {
   "cell_type": "code",
   "execution_count": 11,
   "id": "6c861c5c-afd0-4280-a055-9fb62420ef61",
   "metadata": {},
   "outputs": [],
   "source": [
    "#Fibonacci series using for loop"
   ]
  },
  {
   "cell_type": "code",
   "execution_count": 12,
   "id": "d542f146-2d2a-4e80-9693-e1e6b950a5de",
   "metadata": {},
   "outputs": [
    {
     "name": "stdout",
     "output_type": "stream",
     "text": [
      "0\n",
      "1\n",
      "1\n",
      "2\n",
      "3\n",
      "5\n",
      "8\n",
      "13\n",
      "21\n",
      "34\n"
     ]
    }
   ],
   "source": [
    "a, b = 0, 1\n",
    "for i in range(10):\n",
    "    print(a)\n",
    "    c = a + b\n",
    "    a = b\n",
    "    b = c"
   ]
  },
  {
   "cell_type": "code",
   "execution_count": 13,
   "id": "718fe816-3691-47b3-b6b7-7eb5fff9e305",
   "metadata": {},
   "outputs": [
    {
     "data": {
      "text/plain": [
       "'nura'"
      ]
     },
     "execution_count": 13,
     "metadata": {},
     "output_type": "execute_result"
    }
   ],
   "source": [
    "#reverse the string\n",
    "s = \"arun\"\n",
    "s[::-1]"
   ]
  },
  {
   "cell_type": "code",
   "execution_count": 16,
   "id": "334d7091-b07c-42da-b861-7cce41eed2f6",
   "metadata": {},
   "outputs": [
    {
     "name": "stdin",
     "output_type": "stream",
     "text": [
      "Enter your string for reversal: arun\n"
     ]
    }
   ],
   "source": [
    "#reverse the string using while loop\n",
    "word = input(\"Enter your string for reversal:\")"
   ]
  },
  {
   "cell_type": "code",
   "execution_count": 20,
   "id": "6a2bf9e9-7d38-4c98-891f-b407e0a8bdc5",
   "metadata": {},
   "outputs": [
    {
     "name": "stdout",
     "output_type": "stream",
     "text": [
      "nura\n"
     ]
    }
   ],
   "source": [
    "reverse = \"\"\n",
    "length = len(word)\n",
    "while length > 0:\n",
    "    reverse = reverse + word[length - 1]\n",
    "    length = length -1\n",
    "print(reverse)\n",
    "    \n",
    "    "
   ]
  },
  {
   "cell_type": "code",
   "execution_count": 22,
   "id": "48c0fcf6-b2c4-4bfd-a521-022b5a0ca4dd",
   "metadata": {},
   "outputs": [
    {
     "name": "stdin",
     "output_type": "stream",
     "text": [
      "Enter your number:  2\n"
     ]
    },
    {
     "name": "stdout",
     "output_type": "stream",
     "text": [
      "2 * 1 = 2\n",
      "2 * 2 = 4\n",
      "2 * 3 = 6\n",
      "2 * 4 = 8\n",
      "2 * 5 = 10\n",
      "2 * 6 = 12\n",
      "2 * 7 = 14\n",
      "2 * 8 = 16\n",
      "2 * 9 = 18\n",
      "2 * 10 = 20\n"
     ]
    }
   ],
   "source": [
    "# print table of numbers\n",
    "n = int(input(\"Enter your number: \"))\n",
    "i = 1\n",
    "while i <=10:\n",
    "    result = n * i\n",
    "    print(n,\"*\",i, \"=\", result)\n",
    "    i = i+1"
   ]
  },
  {
   "cell_type": "code",
   "execution_count": 2,
   "id": "7d8a9830-45b2-46b7-be95-4f421e9df9d9",
   "metadata": {},
   "outputs": [
    {
     "name": "stdout",
     "output_type": "stream",
     "text": [
      "1\n",
      "2\n",
      "3\n",
      "4\n",
      "this will be executed once your while will complete successfully\n"
     ]
    }
   ],
   "source": [
    "# While loop with else\n",
    "\n",
    "n = 5\n",
    "i = 1\n",
    "while i < n:\n",
    "    print(i)\n",
    "    i = i +1\n",
    "else:\n",
    "    print(\"this will be executed once your while will complete successfully\")"
   ]
  },
  {
   "cell_type": "code",
   "execution_count": 3,
   "id": "e0829cec-fa0e-4f69-a4c9-93bceea758e3",
   "metadata": {},
   "outputs": [
    {
     "name": "stdout",
     "output_type": "stream",
     "text": [
      "1\n",
      "2\n",
      "3\n"
     ]
    }
   ],
   "source": [
    "n = 5\n",
    "i = 1\n",
    "while i < n:\n",
    "    print(i)\n",
    "    if i ==3:\n",
    "        break\n",
    "    i = i +1\n",
    "else:\n",
    "    print(\"this will be executed once your while will complete successfully\")"
   ]
  },
  {
   "cell_type": "code",
   "execution_count": null,
   "id": "381341ec-5cdb-43d2-8a37-27ccaf496acb",
   "metadata": {},
   "outputs": [],
   "source": []
  }
 ],
 "metadata": {
  "kernelspec": {
   "display_name": "Python 3 (ipykernel)",
   "language": "python",
   "name": "python3"
  },
  "language_info": {
   "codemirror_mode": {
    "name": "ipython",
    "version": 3
   },
   "file_extension": ".py",
   "mimetype": "text/x-python",
   "name": "python",
   "nbconvert_exporter": "python",
   "pygments_lexer": "ipython3",
   "version": "3.12.3"
  }
 },
 "nbformat": 4,
 "nbformat_minor": 5
}
