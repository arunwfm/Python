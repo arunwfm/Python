{
 "cells": [
  {
   "cell_type": "code",
   "execution_count": 2,
   "id": "c16cbe35-f1fe-4869-a0b9-fe1410f9ac33",
   "metadata": {},
   "outputs": [],
   "source": [
    "l=[1,2,3,'arun',2.01,True, 5+6j]"
   ]
  },
  {
   "cell_type": "code",
   "execution_count": 3,
   "id": "94b76837-7d20-4da7-a8d5-b136a959db29",
   "metadata": {},
   "outputs": [
    {
     "data": {
      "text/plain": [
       "list"
      ]
     },
     "execution_count": 3,
     "metadata": {},
     "output_type": "execute_result"
    }
   ],
   "source": [
    "type(l)"
   ]
  },
  {
   "cell_type": "code",
   "execution_count": 4,
   "id": "b6b5d993-b063-4956-ad70-dee4347f5ddf",
   "metadata": {},
   "outputs": [
    {
     "data": {
      "text/plain": [
       "1"
      ]
     },
     "execution_count": 4,
     "metadata": {},
     "output_type": "execute_result"
    }
   ],
   "source": [
    "l[0]"
   ]
  },
  {
   "cell_type": "code",
   "execution_count": 5,
   "id": "0e7997f0-d09d-4399-aff4-5aac9a89bae6",
   "metadata": {},
   "outputs": [
    {
     "data": {
      "text/plain": [
       "True"
      ]
     },
     "execution_count": 5,
     "metadata": {},
     "output_type": "execute_result"
    }
   ],
   "source": [
    "l[5]"
   ]
  },
  {
   "cell_type": "code",
   "execution_count": 7,
   "id": "9a2c7a76-c2fb-4625-b0d0-f4b713f4d551",
   "metadata": {},
   "outputs": [
    {
     "data": {
      "text/plain": [
       "(5+6j)"
      ]
     },
     "execution_count": 7,
     "metadata": {},
     "output_type": "execute_result"
    }
   ],
   "source": [
    "l[6]"
   ]
  },
  {
   "cell_type": "code",
   "execution_count": 8,
   "id": "fb05fa22-4fe6-430e-a9f4-f7758c71ec07",
   "metadata": {},
   "outputs": [
    {
     "data": {
      "text/plain": [
       "[1, 2, 3, 'arun', 2.01, True, (5+6j)]"
      ]
     },
     "execution_count": 8,
     "metadata": {},
     "output_type": "execute_result"
    }
   ],
   "source": [
    "l"
   ]
  },
  {
   "cell_type": "code",
   "execution_count": 9,
   "id": "77c3c139-225e-4966-9b4a-4c81be63ead4",
   "metadata": {},
   "outputs": [
    {
     "data": {
      "text/plain": [
       "[1, 2, 3]"
      ]
     },
     "execution_count": 9,
     "metadata": {},
     "output_type": "execute_result"
    }
   ],
   "source": [
    "l[0:3]"
   ]
  },
  {
   "cell_type": "code",
   "execution_count": 10,
   "id": "982b47fa-39a6-40d9-a25f-2e4ff190189d",
   "metadata": {},
   "outputs": [
    {
     "data": {
      "text/plain": [
       "(5+6j)"
      ]
     },
     "execution_count": 10,
     "metadata": {},
     "output_type": "execute_result"
    }
   ],
   "source": [
    "l[-1]"
   ]
  },
  {
   "cell_type": "code",
   "execution_count": 11,
   "id": "cfea8210-bda6-4f5e-b463-819716b23ecb",
   "metadata": {},
   "outputs": [
    {
     "data": {
      "text/plain": [
       "[(5+6j), True, 2.01, 'arun', 3, 2, 1]"
      ]
     },
     "execution_count": 11,
     "metadata": {},
     "output_type": "execute_result"
    }
   ],
   "source": [
    "l[::-1]"
   ]
  },
  {
   "cell_type": "code",
   "execution_count": 12,
   "id": "69d162f9-31fc-41d2-9dd6-2d004a5d921c",
   "metadata": {},
   "outputs": [
    {
     "data": {
      "text/plain": [
       "[1, 3, 2.01, (5+6j)]"
      ]
     },
     "execution_count": 12,
     "metadata": {},
     "output_type": "execute_result"
    }
   ],
   "source": [
    "l[::2]"
   ]
  },
  {
   "cell_type": "code",
   "execution_count": 13,
   "id": "2675bbdf-cbd2-464d-8760-8bae6104309d",
   "metadata": {},
   "outputs": [
    {
     "data": {
      "text/plain": [
       "[1, 2, 3, 'arun', 2.01, True, (5+6j)]"
      ]
     },
     "execution_count": 13,
     "metadata": {},
     "output_type": "execute_result"
    }
   ],
   "source": [
    "l"
   ]
  },
  {
   "cell_type": "code",
   "execution_count": 14,
   "id": "7651dbb2-88bc-437d-8c11-bf64c140e3d9",
   "metadata": {},
   "outputs": [],
   "source": [
    "s='arun'"
   ]
  },
  {
   "cell_type": "code",
   "execution_count": 15,
   "id": "b89d3d59-b1fc-48d1-bff8-b4e2e764dc7e",
   "metadata": {},
   "outputs": [
    {
     "ename": "TypeError",
     "evalue": "can only concatenate list (not \"str\") to list",
     "output_type": "error",
     "traceback": [
      "\u001b[1;31m---------------------------------------------------------------------------\u001b[0m",
      "\u001b[1;31mTypeError\u001b[0m                                 Traceback (most recent call last)",
      "Cell \u001b[1;32mIn[15], line 1\u001b[0m\n\u001b[1;32m----> 1\u001b[0m \u001b[43ml\u001b[49m\u001b[38;5;241;43m+\u001b[39;49m\u001b[43ms\u001b[49m\n",
      "\u001b[1;31mTypeError\u001b[0m: can only concatenate list (not \"str\") to list"
     ]
    }
   ],
   "source": [
    "l+s"
   ]
  },
  {
   "cell_type": "code",
   "execution_count": 17,
   "id": "0f7b117f-f273-49e1-80f4-77df14472f83",
   "metadata": {},
   "outputs": [
    {
     "data": {
      "text/plain": [
       "['a', 'r', 'u', 'n', 1, 2, 3, 'arun', 2.01, True, (5+6j)]"
      ]
     },
     "execution_count": 17,
     "metadata": {},
     "output_type": "execute_result"
    }
   ],
   "source": [
    "list(s)+l"
   ]
  },
  {
   "cell_type": "code",
   "execution_count": 18,
   "id": "7bb870a4-b1d0-4fa1-92af-55d456403952",
   "metadata": {},
   "outputs": [
    {
     "data": {
      "text/plain": [
       "[1, 2, 3, 'arun', 2.01, True, (5+6j)]"
      ]
     },
     "execution_count": 18,
     "metadata": {},
     "output_type": "execute_result"
    }
   ],
   "source": [
    "l"
   ]
  },
  {
   "cell_type": "code",
   "execution_count": 20,
   "id": "e0daf09a-252c-4d46-9d3f-0f8558a253de",
   "metadata": {},
   "outputs": [
    {
     "data": {
      "text/plain": [
       "'ar'"
      ]
     },
     "execution_count": 20,
     "metadata": {},
     "output_type": "execute_result"
    }
   ],
   "source": [
    "l[3][0:2]"
   ]
  },
  {
   "cell_type": "code",
   "execution_count": 21,
   "id": "54daa5a8-dc84-4267-a373-b5857c6ed173",
   "metadata": {},
   "outputs": [
    {
     "data": {
      "text/plain": [
       "True"
      ]
     },
     "execution_count": 21,
     "metadata": {},
     "output_type": "execute_result"
    }
   ],
   "source": [
    "l[5]"
   ]
  },
  {
   "cell_type": "code",
   "execution_count": 25,
   "id": "136a6062-05e1-4d86-97fc-b412092bb208",
   "metadata": {},
   "outputs": [
    {
     "data": {
      "text/plain": [
       "'Tr'"
      ]
     },
     "execution_count": 25,
     "metadata": {},
     "output_type": "execute_result"
    }
   ],
   "source": [
    "str(l[5])[0:2]"
   ]
  },
  {
   "cell_type": "code",
   "execution_count": 26,
   "id": "1c7924b5-c45a-4b4f-a80e-c261b691d9d8",
   "metadata": {},
   "outputs": [
    {
     "ename": "TypeError",
     "evalue": "can only concatenate list (not \"str\") to list",
     "output_type": "error",
     "traceback": [
      "\u001b[1;31m---------------------------------------------------------------------------\u001b[0m",
      "\u001b[1;31mTypeError\u001b[0m                                 Traceback (most recent call last)",
      "Cell \u001b[1;32mIn[26], line 1\u001b[0m\n\u001b[1;32m----> 1\u001b[0m \u001b[43ml\u001b[49m\u001b[38;5;241;43m+\u001b[39;49m\u001b[43ms\u001b[49m\n",
      "\u001b[1;31mTypeError\u001b[0m: can only concatenate list (not \"str\") to list"
     ]
    }
   ],
   "source": [
    "l+s"
   ]
  },
  {
   "cell_type": "code",
   "execution_count": 28,
   "id": "6b3e6da5-59d4-46a1-b2a5-cca89005c210",
   "metadata": {},
   "outputs": [],
   "source": [
    "l1=[8,9,10]"
   ]
  },
  {
   "cell_type": "code",
   "execution_count": 29,
   "id": "ea8e9591-e5f8-43ff-94c8-fc7b599e64ed",
   "metadata": {},
   "outputs": [
    {
     "data": {
      "text/plain": [
       "[1, 2, 3, 'arun', 2.01, True, (5+6j), 8, 9, 10]"
      ]
     },
     "execution_count": 29,
     "metadata": {},
     "output_type": "execute_result"
    }
   ],
   "source": [
    "l+l1"
   ]
  },
  {
   "cell_type": "markdown",
   "id": "61c3c1c3-0340-46ef-924d-fba4056922ea",
   "metadata": {},
   "source": [
    "# "
   ]
  },
  {
   "cell_type": "code",
   "execution_count": 30,
   "id": "ec5015a9-a36a-4155-b948-294449d86c27",
   "metadata": {},
   "outputs": [
    {
     "data": {
      "text/plain": [
       "[8, 9, 10]"
      ]
     },
     "execution_count": 30,
     "metadata": {},
     "output_type": "execute_result"
    }
   ],
   "source": [
    "l1"
   ]
  },
  {
   "cell_type": "code",
   "execution_count": 31,
   "id": "d0fbdba7-24c1-419c-a751-20561a49884f",
   "metadata": {},
   "outputs": [
    {
     "data": {
      "text/plain": [
       "[8, 9, 10, 8, 9, 10, 8, 9, 10]"
      ]
     },
     "execution_count": 31,
     "metadata": {},
     "output_type": "execute_result"
    }
   ],
   "source": [
    "l1*3"
   ]
  },
  {
   "cell_type": "code",
   "execution_count": 32,
   "id": "bccfc8cf-538f-49b6-8076-32272be0ccf9",
   "metadata": {},
   "outputs": [
    {
     "data": {
      "text/plain": [
       "[1, 2, 3, 'arun', 2.01, True, (5+6j)]"
      ]
     },
     "execution_count": 32,
     "metadata": {},
     "output_type": "execute_result"
    }
   ],
   "source": [
    "l"
   ]
  },
  {
   "cell_type": "code",
   "execution_count": 33,
   "id": "1556dd25-7585-4232-91be-64b43c815c08",
   "metadata": {},
   "outputs": [
    {
     "data": {
      "text/plain": [
       "7"
      ]
     },
     "execution_count": 33,
     "metadata": {},
     "output_type": "execute_result"
    }
   ],
   "source": [
    "len(l)"
   ]
  },
  {
   "cell_type": "code",
   "execution_count": 34,
   "id": "92c8fd74-0334-4204-9d30-9d4f7cb5af36",
   "metadata": {},
   "outputs": [],
   "source": [
    "l.append(5)"
   ]
  },
  {
   "cell_type": "code",
   "execution_count": 35,
   "id": "6f4de370-5feb-42ae-82e2-3d54d62a197f",
   "metadata": {},
   "outputs": [
    {
     "data": {
      "text/plain": [
       "[1, 2, 3, 'arun', 2.01, True, (5+6j), 5]"
      ]
     },
     "execution_count": 35,
     "metadata": {},
     "output_type": "execute_result"
    }
   ],
   "source": [
    "l"
   ]
  },
  {
   "cell_type": "code",
   "execution_count": 36,
   "id": "c1953567-e5d1-4845-8fd1-cf43e6246336",
   "metadata": {},
   "outputs": [],
   "source": [
    "l.append(s)"
   ]
  },
  {
   "cell_type": "code",
   "execution_count": 37,
   "id": "d981dbed-d22e-42b3-9050-c57f1207bdd9",
   "metadata": {},
   "outputs": [
    {
     "data": {
      "text/plain": [
       "[1, 2, 3, 'arun', 2.01, True, (5+6j), 5, 'arun']"
      ]
     },
     "execution_count": 37,
     "metadata": {},
     "output_type": "execute_result"
    }
   ],
   "source": [
    "l"
   ]
  },
  {
   "cell_type": "code",
   "execution_count": 38,
   "id": "68a3ba33-422c-4245-b5ec-1da4382c4dc2",
   "metadata": {},
   "outputs": [],
   "source": [
    "l.append(l1)"
   ]
  },
  {
   "cell_type": "code",
   "execution_count": 39,
   "id": "de81b1cc-424a-446f-8515-c98a0fcc1c03",
   "metadata": {},
   "outputs": [
    {
     "data": {
      "text/plain": [
       "[1, 2, 3, 'arun', 2.01, True, (5+6j), 5, 'arun', [8, 9, 10]]"
      ]
     },
     "execution_count": 39,
     "metadata": {},
     "output_type": "execute_result"
    }
   ],
   "source": [
    "l"
   ]
  },
  {
   "cell_type": "code",
   "execution_count": 42,
   "id": "3edcd7bf-2d77-4d86-9d11-5d3ee744304b",
   "metadata": {},
   "outputs": [
    {
     "data": {
      "text/plain": [
       "8"
      ]
     },
     "execution_count": 42,
     "metadata": {},
     "output_type": "execute_result"
    }
   ],
   "source": [
    "l[9][0]"
   ]
  },
  {
   "cell_type": "code",
   "execution_count": 43,
   "id": "ba5b6602-cc48-4707-8f4a-eccfea63ec57",
   "metadata": {},
   "outputs": [
    {
     "data": {
      "text/plain": [
       "[1, 2, 3, 'arun', 2.01, True, (5+6j), 5, 'arun', [8, 9, 10]]"
      ]
     },
     "execution_count": 43,
     "metadata": {},
     "output_type": "execute_result"
    }
   ],
   "source": [
    "l"
   ]
  },
  {
   "cell_type": "code",
   "execution_count": 45,
   "id": "680fdd4b-961e-4945-861c-a3f02ad2e785",
   "metadata": {},
   "outputs": [
    {
     "data": {
      "text/plain": [
       "9"
      ]
     },
     "execution_count": 45,
     "metadata": {},
     "output_type": "execute_result"
    }
   ],
   "source": [
    "l[-1][1]"
   ]
  },
  {
   "cell_type": "code",
   "execution_count": 46,
   "id": "8c03f19f-1569-4513-afe7-a15b580ecc65",
   "metadata": {},
   "outputs": [
    {
     "data": {
      "text/plain": [
       "[1, 2, 3, 'arun', 2.01, True, (5+6j), 5, 'arun', [8, 9, 10]]"
      ]
     },
     "execution_count": 46,
     "metadata": {},
     "output_type": "execute_result"
    }
   ],
   "source": [
    "l"
   ]
  },
  {
   "cell_type": "code",
   "execution_count": 47,
   "id": "200aff51-cb76-4ec6-90bf-c788b6cd3796",
   "metadata": {},
   "outputs": [
    {
     "ename": "TypeError",
     "evalue": "'int' object is not iterable",
     "output_type": "error",
     "traceback": [
      "\u001b[1;31m---------------------------------------------------------------------------\u001b[0m",
      "\u001b[1;31mTypeError\u001b[0m                                 Traceback (most recent call last)",
      "Cell \u001b[1;32mIn[47], line 1\u001b[0m\n\u001b[1;32m----> 1\u001b[0m \u001b[43ml\u001b[49m\u001b[38;5;241;43m.\u001b[39;49m\u001b[43mextend\u001b[49m\u001b[43m(\u001b[49m\u001b[38;5;241;43m4\u001b[39;49m\u001b[43m)\u001b[49m\n",
      "\u001b[1;31mTypeError\u001b[0m: 'int' object is not iterable"
     ]
    }
   ],
   "source": [
    "l.extend(4)"
   ]
  },
  {
   "cell_type": "code",
   "execution_count": 49,
   "id": "c072422c-bc81-4f30-ab5b-d484136ca317",
   "metadata": {},
   "outputs": [],
   "source": [
    "l.extend('kumar')"
   ]
  },
  {
   "cell_type": "code",
   "execution_count": 50,
   "id": "fc3779f6-9f97-44d1-a33c-1d73505cf224",
   "metadata": {},
   "outputs": [
    {
     "data": {
      "text/plain": [
       "[1,\n",
       " 2,\n",
       " 3,\n",
       " 'arun',\n",
       " 2.01,\n",
       " True,\n",
       " (5+6j),\n",
       " 5,\n",
       " 'arun',\n",
       " [8, 9, 10],\n",
       " 'k',\n",
       " 'u',\n",
       " 'm',\n",
       " 'a',\n",
       " 'r']"
      ]
     },
     "execution_count": 50,
     "metadata": {},
     "output_type": "execute_result"
    }
   ],
   "source": [
    "l"
   ]
  },
  {
   "cell_type": "code",
   "execution_count": 51,
   "id": "bfd53538-0316-48ff-b6f5-670cb7643ac2",
   "metadata": {},
   "outputs": [
    {
     "data": {
      "text/plain": [
       "[1,\n",
       " 2,\n",
       " 3,\n",
       " 'arun',\n",
       " 2.01,\n",
       " True,\n",
       " (5+6j),\n",
       " 5,\n",
       " 'arun',\n",
       " [8, 9, 10],\n",
       " 'k',\n",
       " 'u',\n",
       " 'm',\n",
       " 'a',\n",
       " 'r']"
      ]
     },
     "execution_count": 51,
     "metadata": {},
     "output_type": "execute_result"
    }
   ],
   "source": [
    "l"
   ]
  },
  {
   "cell_type": "code",
   "execution_count": 53,
   "id": "9e7ad9e3-8517-4c69-8dc3-395b0b63c616",
   "metadata": {},
   "outputs": [],
   "source": [
    "l.extend([4,5,6])"
   ]
  },
  {
   "cell_type": "code",
   "execution_count": 54,
   "id": "e32802f4-346b-4d91-aa27-6d28c0cf0d26",
   "metadata": {},
   "outputs": [
    {
     "data": {
      "text/plain": [
       "[1,\n",
       " 2,\n",
       " 3,\n",
       " 'arun',\n",
       " 2.01,\n",
       " True,\n",
       " (5+6j),\n",
       " 5,\n",
       " 'arun',\n",
       " [8, 9, 10],\n",
       " 'k',\n",
       " 'u',\n",
       " 'm',\n",
       " 'a',\n",
       " 'r',\n",
       " 4,\n",
       " 5,\n",
       " 6]"
      ]
     },
     "execution_count": 54,
     "metadata": {},
     "output_type": "execute_result"
    }
   ],
   "source": [
    "l"
   ]
  },
  {
   "cell_type": "code",
   "execution_count": 55,
   "id": "b8b13cf7-3908-40e4-8b98-b2e2f3c889fc",
   "metadata": {},
   "outputs": [
    {
     "data": {
      "text/plain": [
       "[8, 9, 10]"
      ]
     },
     "execution_count": 55,
     "metadata": {},
     "output_type": "execute_result"
    }
   ],
   "source": [
    "l1"
   ]
  },
  {
   "cell_type": "code",
   "execution_count": 56,
   "id": "c8efe112-1c0e-4e9b-a2c2-23f062b2de6c",
   "metadata": {},
   "outputs": [],
   "source": [
    "l1.insert(1,\"Singh\")"
   ]
  },
  {
   "cell_type": "code",
   "execution_count": 57,
   "id": "49d0b7a0-89ec-4f54-ba2e-a8aa1a31285a",
   "metadata": {},
   "outputs": [
    {
     "data": {
      "text/plain": [
       "[8, 'Singh', 9, 10]"
      ]
     },
     "execution_count": 57,
     "metadata": {},
     "output_type": "execute_result"
    }
   ],
   "source": [
    "l1"
   ]
  },
  {
   "cell_type": "code",
   "execution_count": 60,
   "id": "746e05b5-b922-410c-a139-86738de9ade0",
   "metadata": {},
   "outputs": [],
   "source": [
    "l1.insert(2,[2,3,4])"
   ]
  },
  {
   "cell_type": "code",
   "execution_count": 61,
   "id": "2f1a4d40-57da-49fe-ac80-18745f157f04",
   "metadata": {},
   "outputs": [
    {
     "data": {
      "text/plain": [
       "[8, 'Singh', [2, 3, 4], 9, 10]"
      ]
     },
     "execution_count": 61,
     "metadata": {},
     "output_type": "execute_result"
    }
   ],
   "source": [
    "l1"
   ]
  },
  {
   "cell_type": "code",
   "execution_count": 62,
   "id": "189d31f9-cd1f-4e27-a2ce-3df5b9c9ac80",
   "metadata": {},
   "outputs": [
    {
     "data": {
      "text/plain": [
       "[8, 'Singh', [2, 3, 4], 9, 10]"
      ]
     },
     "execution_count": 62,
     "metadata": {},
     "output_type": "execute_result"
    }
   ],
   "source": [
    "l1"
   ]
  },
  {
   "cell_type": "code",
   "execution_count": 63,
   "id": "37525145-abc3-4138-b8d6-e5a9b71c76c3",
   "metadata": {},
   "outputs": [],
   "source": [
    "l1.insert(-1,45)"
   ]
  },
  {
   "cell_type": "code",
   "execution_count": 64,
   "id": "2f54f859-d304-42ce-aa57-43b89faa0068",
   "metadata": {},
   "outputs": [
    {
     "data": {
      "text/plain": [
       "[8, 'Singh', [2, 3, 4], 9, 45, 10]"
      ]
     },
     "execution_count": 64,
     "metadata": {},
     "output_type": "execute_result"
    }
   ],
   "source": [
    "l1"
   ]
  },
  {
   "cell_type": "code",
   "execution_count": 66,
   "id": "46cbf71d-59a9-4a0d-8abf-8dc098902e2e",
   "metadata": {},
   "outputs": [],
   "source": [
    "l1.insert(0,25)"
   ]
  },
  {
   "cell_type": "code",
   "execution_count": 67,
   "id": "e9826740-1ea3-445e-9a5a-4980d8b4c43b",
   "metadata": {},
   "outputs": [
    {
     "data": {
      "text/plain": [
       "[25, 8, 'Singh', [2, 3, 4], 9, 45, 10]"
      ]
     },
     "execution_count": 67,
     "metadata": {},
     "output_type": "execute_result"
    }
   ],
   "source": [
    "l1"
   ]
  },
  {
   "cell_type": "code",
   "execution_count": 68,
   "id": "4618f345-a98a-48ed-833d-3c73a6656b35",
   "metadata": {},
   "outputs": [
    {
     "data": {
      "text/plain": [
       "10"
      ]
     },
     "execution_count": 68,
     "metadata": {},
     "output_type": "execute_result"
    }
   ],
   "source": [
    "l1.pop()"
   ]
  },
  {
   "cell_type": "code",
   "execution_count": 69,
   "id": "5e840a0a-abbc-4cec-8936-8d43563398d2",
   "metadata": {},
   "outputs": [
    {
     "data": {
      "text/plain": [
       "[25, 8, 'Singh', [2, 3, 4], 9, 45]"
      ]
     },
     "execution_count": 69,
     "metadata": {},
     "output_type": "execute_result"
    }
   ],
   "source": [
    "l1"
   ]
  },
  {
   "cell_type": "code",
   "execution_count": 70,
   "id": "7f464abb-1723-4483-a7e5-2fd3577f14e5",
   "metadata": {},
   "outputs": [
    {
     "data": {
      "text/plain": [
       "[2, 3, 4]"
      ]
     },
     "execution_count": 70,
     "metadata": {},
     "output_type": "execute_result"
    }
   ],
   "source": [
    "l1.pop(3)"
   ]
  },
  {
   "cell_type": "code",
   "execution_count": 71,
   "id": "67f376a4-8632-4d5a-9853-d8f584889c9e",
   "metadata": {},
   "outputs": [
    {
     "data": {
      "text/plain": [
       "[25, 8, 'Singh', 9, 45]"
      ]
     },
     "execution_count": 71,
     "metadata": {},
     "output_type": "execute_result"
    }
   ],
   "source": [
    "l1"
   ]
  },
  {
   "cell_type": "code",
   "execution_count": 73,
   "id": "f66c1cc8-3e09-4c32-9998-2e1d61c50b7f",
   "metadata": {},
   "outputs": [],
   "source": [
    "l1.remove(8)"
   ]
  },
  {
   "cell_type": "code",
   "execution_count": 74,
   "id": "12f46368-2572-43c3-9a6c-35c932508707",
   "metadata": {},
   "outputs": [
    {
     "data": {
      "text/plain": [
       "[25, 'Singh', 9, 45]"
      ]
     },
     "execution_count": 74,
     "metadata": {},
     "output_type": "execute_result"
    }
   ],
   "source": [
    "l1"
   ]
  },
  {
   "cell_type": "code",
   "execution_count": 76,
   "id": "2b929f2c-7a70-4050-9950-f671226b582f",
   "metadata": {},
   "outputs": [],
   "source": [
    "l1.insert(2,[5,8,9])"
   ]
  },
  {
   "cell_type": "code",
   "execution_count": 77,
   "id": "6b0719c7-5279-48e2-870e-7fde87ab7202",
   "metadata": {},
   "outputs": [
    {
     "data": {
      "text/plain": [
       "[25, 'Singh', [5, 8, 9], 9, 45]"
      ]
     },
     "execution_count": 77,
     "metadata": {},
     "output_type": "execute_result"
    }
   ],
   "source": [
    "l1"
   ]
  },
  {
   "cell_type": "code",
   "execution_count": 79,
   "id": "fc75a101-cbe9-4027-a3fc-9c32f074076d",
   "metadata": {},
   "outputs": [
    {
     "data": {
      "text/plain": [
       "[5, 8, 9]"
      ]
     },
     "execution_count": 79,
     "metadata": {},
     "output_type": "execute_result"
    }
   ],
   "source": [
    "l1.pop(2)"
   ]
  },
  {
   "cell_type": "code",
   "execution_count": 81,
   "id": "96cb567c-99d9-4ea9-be83-71f019970c13",
   "metadata": {},
   "outputs": [],
   "source": [
    "l1.insert(2,[4,5,8,9])"
   ]
  },
  {
   "cell_type": "code",
   "execution_count": 82,
   "id": "4ee4a285-a8ee-41eb-97bb-1eb05e5ff114",
   "metadata": {},
   "outputs": [
    {
     "data": {
      "text/plain": [
       "[25, 'Singh', [4, 5, 8, 9], 9, 45]"
      ]
     },
     "execution_count": 82,
     "metadata": {},
     "output_type": "execute_result"
    }
   ],
   "source": [
    "l1"
   ]
  },
  {
   "cell_type": "code",
   "execution_count": 84,
   "id": "946d0d76-2d1f-4083-b5bb-646c1887df21",
   "metadata": {},
   "outputs": [],
   "source": [
    "l1[2].remove(5)"
   ]
  },
  {
   "cell_type": "code",
   "execution_count": 85,
   "id": "1992f4d3-5f8a-4a55-ae77-a01bd02ae6a0",
   "metadata": {},
   "outputs": [
    {
     "data": {
      "text/plain": [
       "[25, 'Singh', [4, 8, 9], 9, 45]"
      ]
     },
     "execution_count": 85,
     "metadata": {},
     "output_type": "execute_result"
    }
   ],
   "source": [
    "l1"
   ]
  },
  {
   "cell_type": "code",
   "execution_count": 86,
   "id": "ca992ee6-2ea0-4ce3-aebc-f55a2f7a833f",
   "metadata": {},
   "outputs": [],
   "source": [
    "l1.append(45)"
   ]
  },
  {
   "cell_type": "code",
   "execution_count": 87,
   "id": "dd657ec4-a1c9-4307-bdbb-1ae73a16f4ef",
   "metadata": {},
   "outputs": [
    {
     "data": {
      "text/plain": [
       "[25, 'Singh', [4, 8, 9], 9, 45, 45]"
      ]
     },
     "execution_count": 87,
     "metadata": {},
     "output_type": "execute_result"
    }
   ],
   "source": [
    "l1"
   ]
  },
  {
   "cell_type": "code",
   "execution_count": 88,
   "id": "46f9f751-14a8-4de8-a42c-31b76e87e7b8",
   "metadata": {},
   "outputs": [],
   "source": [
    "l1.remove(45)"
   ]
  },
  {
   "cell_type": "code",
   "execution_count": 89,
   "id": "b9bdc709-49fe-4bca-b10c-1638f3997191",
   "metadata": {},
   "outputs": [
    {
     "data": {
      "text/plain": [
       "[25, 'Singh', [4, 8, 9], 9, 45]"
      ]
     },
     "execution_count": 89,
     "metadata": {},
     "output_type": "execute_result"
    }
   ],
   "source": [
    "l1"
   ]
  },
  {
   "cell_type": "code",
   "execution_count": 90,
   "id": "c5dc4504-4d32-48c7-91d5-c5640302abe7",
   "metadata": {},
   "outputs": [
    {
     "data": {
      "text/plain": [
       "[45, 9, [4, 8, 9], 'Singh', 25]"
      ]
     },
     "execution_count": 90,
     "metadata": {},
     "output_type": "execute_result"
    }
   ],
   "source": [
    "l1[::-1]"
   ]
  },
  {
   "cell_type": "code",
   "execution_count": 91,
   "id": "3150b9ae-f58d-40cf-b3c0-7ce0c15e072c",
   "metadata": {},
   "outputs": [],
   "source": [
    "l1.reverse()"
   ]
  },
  {
   "cell_type": "code",
   "execution_count": 93,
   "id": "0ec54f42-232c-47c0-b41a-010279b97781",
   "metadata": {},
   "outputs": [
    {
     "data": {
      "text/plain": [
       "[45, 9, [4, 8, 9], 'Singh', 25]"
      ]
     },
     "execution_count": 93,
     "metadata": {},
     "output_type": "execute_result"
    }
   ],
   "source": [
    "l1"
   ]
  },
  {
   "cell_type": "code",
   "execution_count": 94,
   "id": "c1eb513f-d55d-4177-997b-874b89c1dd84",
   "metadata": {},
   "outputs": [],
   "source": [
    "l1=l1[::-1]"
   ]
  },
  {
   "cell_type": "code",
   "execution_count": 95,
   "id": "cfee5038-66d9-4ce0-b506-4b598d98623d",
   "metadata": {},
   "outputs": [
    {
     "data": {
      "text/plain": [
       "[25, 'Singh', [4, 8, 9], 9, 45]"
      ]
     },
     "execution_count": 95,
     "metadata": {},
     "output_type": "execute_result"
    }
   ],
   "source": [
    "l1"
   ]
  },
  {
   "cell_type": "code",
   "execution_count": 96,
   "id": "3f7862d6-e0d7-480f-af50-316b59e955d0",
   "metadata": {},
   "outputs": [],
   "source": [
    "l2=[1,5,6,7,9,10]"
   ]
  },
  {
   "cell_type": "code",
   "execution_count": 97,
   "id": "97733718-1727-422c-a0db-12b16ac5485a",
   "metadata": {},
   "outputs": [],
   "source": [
    "l2.sort()"
   ]
  },
  {
   "cell_type": "code",
   "execution_count": 98,
   "id": "07fba79e-ed84-4263-8708-e02f5a9fda2c",
   "metadata": {},
   "outputs": [
    {
     "data": {
      "text/plain": [
       "[1, 5, 6, 7, 9, 10]"
      ]
     },
     "execution_count": 98,
     "metadata": {},
     "output_type": "execute_result"
    }
   ],
   "source": [
    "l2"
   ]
  },
  {
   "cell_type": "code",
   "execution_count": 99,
   "id": "dcc2179b-6b3e-4ceb-946b-b6f36bf3d56d",
   "metadata": {},
   "outputs": [],
   "source": [
    "l3=[34,'Arun',45,12,'kumar']"
   ]
  },
  {
   "cell_type": "code",
   "execution_count": 101,
   "id": "f2a4cd50-9bd5-45a8-9ad8-69cd7769ba0d",
   "metadata": {},
   "outputs": [
    {
     "ename": "TypeError",
     "evalue": "'<' not supported between instances of 'str' and 'int'",
     "output_type": "error",
     "traceback": [
      "\u001b[1;31m---------------------------------------------------------------------------\u001b[0m",
      "\u001b[1;31mTypeError\u001b[0m                                 Traceback (most recent call last)",
      "Cell \u001b[1;32mIn[101], line 1\u001b[0m\n\u001b[1;32m----> 1\u001b[0m \u001b[43ml3\u001b[49m\u001b[38;5;241;43m.\u001b[39;49m\u001b[43msort\u001b[49m\u001b[43m(\u001b[49m\u001b[43m)\u001b[49m\n",
      "\u001b[1;31mTypeError\u001b[0m: '<' not supported between instances of 'str' and 'int'"
     ]
    }
   ],
   "source": [
    "l3.sort()"
   ]
  },
  {
   "cell_type": "code",
   "execution_count": 102,
   "id": "dd2776f4-2be7-4d30-bd7d-e8e1d63e95bc",
   "metadata": {},
   "outputs": [],
   "source": [
    "l4 = ['arun', 'kumar','singh','ddata science']"
   ]
  },
  {
   "cell_type": "code",
   "execution_count": 103,
   "id": "ebbedbb3-c468-4833-9918-43460be49f44",
   "metadata": {},
   "outputs": [],
   "source": [
    "l4.sort()"
   ]
  },
  {
   "cell_type": "code",
   "execution_count": 104,
   "id": "abf2e1c0-a724-43b0-bc37-280babd81cc5",
   "metadata": {},
   "outputs": [
    {
     "data": {
      "text/plain": [
       "['arun', 'ddata science', 'kumar', 'singh']"
      ]
     },
     "execution_count": 104,
     "metadata": {},
     "output_type": "execute_result"
    }
   ],
   "source": [
    "l4"
   ]
  },
  {
   "cell_type": "code",
   "execution_count": 105,
   "id": "c6ada5fc-384c-4b33-94d1-a3fdff548e6b",
   "metadata": {},
   "outputs": [],
   "source": [
    "l4.sort(reverse=True)"
   ]
  },
  {
   "cell_type": "code",
   "execution_count": 106,
   "id": "37bd2c95-efb0-4004-ad3c-e52b29c16642",
   "metadata": {},
   "outputs": [
    {
     "data": {
      "text/plain": [
       "['singh', 'kumar', 'ddata science', 'arun']"
      ]
     },
     "execution_count": 106,
     "metadata": {},
     "output_type": "execute_result"
    }
   ],
   "source": [
    "l4"
   ]
  },
  {
   "cell_type": "code",
   "execution_count": 107,
   "id": "2574d68f-2a02-4d21-ad4d-5bae57a6fc06",
   "metadata": {},
   "outputs": [
    {
     "data": {
      "text/plain": [
       "['singh', 'kumar', 'ddata science', 'arun']"
      ]
     },
     "execution_count": 107,
     "metadata": {},
     "output_type": "execute_result"
    }
   ],
   "source": [
    "l4"
   ]
  },
  {
   "cell_type": "code",
   "execution_count": 108,
   "id": "3c26c90c-9c4a-41f6-bf25-7254243c4c86",
   "metadata": {},
   "outputs": [
    {
     "data": {
      "text/plain": [
       "3"
      ]
     },
     "execution_count": 108,
     "metadata": {},
     "output_type": "execute_result"
    }
   ],
   "source": [
    "l4.index('arun')"
   ]
  },
  {
   "cell_type": "code",
   "execution_count": 110,
   "id": "a6c0a60d-b806-49c5-b85b-9184d5a7c647",
   "metadata": {},
   "outputs": [
    {
     "data": {
      "text/plain": [
       "1"
      ]
     },
     "execution_count": 110,
     "metadata": {},
     "output_type": "execute_result"
    }
   ],
   "source": [
    "l4.count('arun')"
   ]
  },
  {
   "cell_type": "code",
   "execution_count": 111,
   "id": "20dc2062-1ae9-4896-897b-53141edcf4ab",
   "metadata": {},
   "outputs": [],
   "source": [
    "l4.append('arun')"
   ]
  },
  {
   "cell_type": "code",
   "execution_count": 112,
   "id": "56f50c6d-6538-4430-8a77-082e6b346616",
   "metadata": {},
   "outputs": [
    {
     "data": {
      "text/plain": [
       "['singh', 'kumar', 'ddata science', 'arun', 'arun']"
      ]
     },
     "execution_count": 112,
     "metadata": {},
     "output_type": "execute_result"
    }
   ],
   "source": [
    "l4"
   ]
  },
  {
   "cell_type": "code",
   "execution_count": 113,
   "id": "a5576b9b-6d1f-49a0-a7bd-24147975ed3c",
   "metadata": {},
   "outputs": [
    {
     "data": {
      "text/plain": [
       "2"
      ]
     },
     "execution_count": 113,
     "metadata": {},
     "output_type": "execute_result"
    }
   ],
   "source": [
    "l4.count('arun')"
   ]
  },
  {
   "cell_type": "code",
   "execution_count": 114,
   "id": "454ce76b-e028-4e26-bf1a-a8928d74570e",
   "metadata": {},
   "outputs": [
    {
     "data": {
      "text/plain": [
       "'arun'"
      ]
     },
     "execution_count": 114,
     "metadata": {},
     "output_type": "execute_result"
    }
   ],
   "source": [
    "l4.pop()"
   ]
  },
  {
   "cell_type": "code",
   "execution_count": 115,
   "id": "c5044e6a-486d-4fe5-a390-6b51fcce178f",
   "metadata": {},
   "outputs": [
    {
     "data": {
      "text/plain": [
       "['singh', 'kumar', 'ddata science', 'arun']"
      ]
     },
     "execution_count": 115,
     "metadata": {},
     "output_type": "execute_result"
    }
   ],
   "source": [
    "l4"
   ]
  },
  {
   "cell_type": "code",
   "execution_count": 116,
   "id": "a3a16161-f412-4760-91a5-d4d19c8d7c01",
   "metadata": {},
   "outputs": [],
   "source": [
    "a='arun'"
   ]
  },
  {
   "cell_type": "code",
   "execution_count": 118,
   "id": "54adfc80-a83d-4b31-9eb5-ea847f6a3065",
   "metadata": {},
   "outputs": [],
   "source": [
    "l5=[3, 4, 5]"
   ]
  },
  {
   "cell_type": "code",
   "execution_count": 120,
   "id": "ac0fd8a1-ba31-459c-b0bc-c022bd6fbb9d",
   "metadata": {},
   "outputs": [
    {
     "ename": "TypeError",
     "evalue": "'str' object does not support item assignment",
     "output_type": "error",
     "traceback": [
      "\u001b[1;31m---------------------------------------------------------------------------\u001b[0m",
      "\u001b[1;31mTypeError\u001b[0m                                 Traceback (most recent call last)",
      "Cell \u001b[1;32mIn[120], line 1\u001b[0m\n\u001b[1;32m----> 1\u001b[0m \u001b[43ms\u001b[49m\u001b[43m[\u001b[49m\u001b[38;5;241;43m0\u001b[39;49m\u001b[43m]\u001b[49m\u001b[38;5;241m=\u001b[39m\u001b[38;5;124m'\u001b[39m\u001b[38;5;124ms\u001b[39m\u001b[38;5;124m'\u001b[39m\n",
      "\u001b[1;31mTypeError\u001b[0m: 'str' object does not support item assignment"
     ]
    }
   ],
   "source": [
    "s[0]"
   ]
  },
  {
   "cell_type": "code",
   "execution_count": 121,
   "id": "3d8810f4-3894-4384-ab6b-6c06c0d902d8",
   "metadata": {},
   "outputs": [
    {
     "data": {
      "text/plain": [
       "[3, 4, 5]"
      ]
     },
     "execution_count": 121,
     "metadata": {},
     "output_type": "execute_result"
    }
   ],
   "source": [
    "l5"
   ]
  },
  {
   "cell_type": "code",
   "execution_count": 123,
   "id": "03f0ef26-023b-4c4f-8b19-51e4b7798bd4",
   "metadata": {},
   "outputs": [],
   "source": [
    "l5[0]=30"
   ]
  },
  {
   "cell_type": "code",
   "execution_count": 124,
   "id": "28f06e6e-a115-4809-9a63-f44652a99161",
   "metadata": {},
   "outputs": [
    {
     "data": {
      "text/plain": [
       "[30, 4, 5]"
      ]
     },
     "execution_count": 124,
     "metadata": {},
     "output_type": "execute_result"
    }
   ],
   "source": [
    "l5"
   ]
  },
  {
   "cell_type": "code",
   "execution_count": 125,
   "id": "5e3373db-a81c-4a62-a98e-a37a0c8d267b",
   "metadata": {},
   "outputs": [
    {
     "data": {
      "text/plain": [
       "'arun'"
      ]
     },
     "execution_count": 125,
     "metadata": {},
     "output_type": "execute_result"
    }
   ],
   "source": [
    "a"
   ]
  },
  {
   "cell_type": "code",
   "execution_count": 129,
   "id": "bbc9219d-62d4-4ca7-869f-2d63dcbd2da4",
   "metadata": {},
   "outputs": [
    {
     "data": {
      "text/plain": [
       "'srun'"
      ]
     },
     "execution_count": 129,
     "metadata": {},
     "output_type": "execute_result"
    }
   ],
   "source": [
    "a.replace('a','s')"
   ]
  },
  {
   "cell_type": "code",
   "execution_count": 130,
   "id": "6967cf5d-2948-4ef8-aa75-d3869c2ac024",
   "metadata": {},
   "outputs": [
    {
     "data": {
      "text/plain": [
       "'arun'"
      ]
     },
     "execution_count": 130,
     "metadata": {},
     "output_type": "execute_result"
    }
   ],
   "source": [
    "a"
   ]
  },
  {
   "cell_type": "code",
   "execution_count": 131,
   "id": "e5e06762-b480-4fbc-b67e-7bd32962b103",
   "metadata": {},
   "outputs": [],
   "source": [
    "t=(2,3,4,'arun',4.2105,5+6j,False, [3,4,5])"
   ]
  },
  {
   "cell_type": "code",
   "execution_count": 132,
   "id": "5b15b60d-d3fb-4e64-84f4-7a4f9f4c230a",
   "metadata": {},
   "outputs": [
    {
     "data": {
      "text/plain": [
       "(2, 3, 4, 'arun', 4.2105, (5+6j), False, [3, 4, 5])"
      ]
     },
     "execution_count": 132,
     "metadata": {},
     "output_type": "execute_result"
    }
   ],
   "source": [
    "t"
   ]
  },
  {
   "cell_type": "code",
   "execution_count": 133,
   "id": "3cff3e97-d453-4839-b4c1-b0ad176c1793",
   "metadata": {},
   "outputs": [
    {
     "data": {
      "text/plain": [
       "tuple"
      ]
     },
     "execution_count": 133,
     "metadata": {},
     "output_type": "execute_result"
    }
   ],
   "source": [
    "type(t)"
   ]
  },
  {
   "cell_type": "code",
   "execution_count": 134,
   "id": "d0a7a323-8479-44d8-839a-6ea905acafca",
   "metadata": {},
   "outputs": [
    {
     "data": {
      "text/plain": [
       "8"
      ]
     },
     "execution_count": 134,
     "metadata": {},
     "output_type": "execute_result"
    }
   ],
   "source": [
    "len(t)"
   ]
  },
  {
   "cell_type": "code",
   "execution_count": 135,
   "id": "f68b5210-8e2e-4e6b-a695-eb960d3e9af8",
   "metadata": {},
   "outputs": [
    {
     "data": {
      "text/plain": [
       "2"
      ]
     },
     "execution_count": 135,
     "metadata": {},
     "output_type": "execute_result"
    }
   ],
   "source": [
    "t[0]"
   ]
  },
  {
   "cell_type": "code",
   "execution_count": 136,
   "id": "bb3748be-0268-4374-a863-bb4070d1f026",
   "metadata": {},
   "outputs": [
    {
     "data": {
      "text/plain": [
       "[3, 4, 5]"
      ]
     },
     "execution_count": 136,
     "metadata": {},
     "output_type": "execute_result"
    }
   ],
   "source": [
    "t[-1]"
   ]
  },
  {
   "cell_type": "code",
   "execution_count": 137,
   "id": "26091efc-b1fe-4f35-9b16-b1cd4be71bd9",
   "metadata": {},
   "outputs": [
    {
     "data": {
      "text/plain": [
       "([3, 4, 5], False, (5+6j), 4.2105, 'arun', 4, 3, 2)"
      ]
     },
     "execution_count": 137,
     "metadata": {},
     "output_type": "execute_result"
    }
   ],
   "source": [
    "t[::-1]"
   ]
  },
  {
   "cell_type": "code",
   "execution_count": 138,
   "id": "7d1d8e27-be8e-4313-8d90-821c16bf2759",
   "metadata": {},
   "outputs": [
    {
     "data": {
      "text/plain": [
       "[3, 4, 5]"
      ]
     },
     "execution_count": 138,
     "metadata": {},
     "output_type": "execute_result"
    }
   ],
   "source": [
    "l4"
   ]
  },
  {
   "cell_type": "code",
   "execution_count": 139,
   "id": "498299bc-85ad-4cf4-b46a-114d52eb0ba4",
   "metadata": {},
   "outputs": [
    {
     "data": {
      "text/plain": [
       "[30, 4, 5]"
      ]
     },
     "execution_count": 139,
     "metadata": {},
     "output_type": "execute_result"
    }
   ],
   "source": [
    "l5"
   ]
  },
  {
   "cell_type": "code",
   "execution_count": 140,
   "id": "a938af15-bc73-47f5-bf27-fff2741560ef",
   "metadata": {},
   "outputs": [
    {
     "data": {
      "text/plain": [
       "([3, 4, 5], False, (5+6j), 4.2105, 'arun', 4, 3, 2)"
      ]
     },
     "execution_count": 140,
     "metadata": {},
     "output_type": "execute_result"
    }
   ],
   "source": [
    "t[::-1]"
   ]
  },
  {
   "cell_type": "code",
   "execution_count": 141,
   "id": "4ac397f6-a61e-4fb0-8495-335f638d815c",
   "metadata": {},
   "outputs": [
    {
     "data": {
      "text/plain": [
       "(2, 3, 4, 'arun', 4.2105, (5+6j), False, [3, 4, 5])"
      ]
     },
     "execution_count": 141,
     "metadata": {},
     "output_type": "execute_result"
    }
   ],
   "source": [
    "t"
   ]
  },
  {
   "cell_type": "code",
   "execution_count": 143,
   "id": "e9f39a0d-6bc5-410a-aab1-379158096bad",
   "metadata": {},
   "outputs": [
    {
     "data": {
      "text/plain": [
       "1"
      ]
     },
     "execution_count": 143,
     "metadata": {},
     "output_type": "execute_result"
    }
   ],
   "source": [
    "t.count(4)"
   ]
  },
  {
   "cell_type": "code",
   "execution_count": 144,
   "id": "ef1bea0c-e159-4690-9753-54dc82ec7845",
   "metadata": {},
   "outputs": [
    {
     "data": {
      "text/plain": [
       "6"
      ]
     },
     "execution_count": 144,
     "metadata": {},
     "output_type": "execute_result"
    }
   ],
   "source": [
    "t.index(False)"
   ]
  },
  {
   "cell_type": "code",
   "execution_count": 145,
   "id": "012fcf76-93c9-4c0e-b361-ea30acc65577",
   "metadata": {},
   "outputs": [
    {
     "data": {
      "text/plain": [
       "(2, 3, 4, 'arun', 4.2105, (5+6j), False, [3, 4, 5])"
      ]
     },
     "execution_count": 145,
     "metadata": {},
     "output_type": "execute_result"
    }
   ],
   "source": [
    "t"
   ]
  },
  {
   "cell_type": "code",
   "execution_count": 146,
   "id": "4a18c789-f017-4b8e-a453-57b868b42f0c",
   "metadata": {},
   "outputs": [],
   "source": [
    "s1={}"
   ]
  },
  {
   "cell_type": "code",
   "execution_count": 147,
   "id": "b93f35bc-ccae-43c7-9626-25036072c72a",
   "metadata": {},
   "outputs": [
    {
     "data": {
      "text/plain": [
       "dict"
      ]
     },
     "execution_count": 147,
     "metadata": {},
     "output_type": "execute_result"
    }
   ],
   "source": [
    "type(s1)"
   ]
  },
  {
   "cell_type": "code",
   "execution_count": 148,
   "id": "5d31a41b-810c-48cf-9e4b-6bb1c3f5eca2",
   "metadata": {},
   "outputs": [],
   "source": [
    "s2 = {2,3,455,6,7}"
   ]
  },
  {
   "cell_type": "code",
   "execution_count": 149,
   "id": "1df6b6b6-db11-4ecb-a618-44acd0a54c0d",
   "metadata": {},
   "outputs": [
    {
     "data": {
      "text/plain": [
       "set"
      ]
     },
     "execution_count": 149,
     "metadata": {},
     "output_type": "execute_result"
    }
   ],
   "source": [
    "type(s2)"
   ]
  },
  {
   "cell_type": "code",
   "execution_count": 150,
   "id": "73ebfb13-69a9-4f06-b3fb-ad2768bbab7b",
   "metadata": {},
   "outputs": [],
   "source": [
    "s3 = {56,85,6,7,125,2.20,'arun',45+5j,(2,3,4,5)}"
   ]
  },
  {
   "cell_type": "code",
   "execution_count": 151,
   "id": "4bb2cbf4-569e-42e7-95d0-3450709eb7a1",
   "metadata": {},
   "outputs": [
    {
     "data": {
      "text/plain": [
       "{(2, 3, 4, 5), (45+5j), 125, 2.2, 56, 6, 7, 85, 'arun'}"
      ]
     },
     "execution_count": 151,
     "metadata": {},
     "output_type": "execute_result"
    }
   ],
   "source": [
    "s3"
   ]
  },
  {
   "cell_type": "code",
   "execution_count": 157,
   "id": "0b0bb4fa-24a4-4308-89a3-c568a40e35ab",
   "metadata": {},
   "outputs": [],
   "source": [
    "s4 = {2,3,4,5,6,2,3,4,5,5,6,2,2,5,2,3,4,5,'arun','Arun'}"
   ]
  },
  {
   "cell_type": "code",
   "execution_count": 158,
   "id": "e87a308d-163e-4751-a28c-49330afe8ee8",
   "metadata": {},
   "outputs": [
    {
     "data": {
      "text/plain": [
       "{2, 3, 4, 5, 6, 'Arun', 'arun'}"
      ]
     },
     "execution_count": 158,
     "metadata": {},
     "output_type": "execute_result"
    }
   ],
   "source": [
    "s4"
   ]
  },
  {
   "cell_type": "code",
   "execution_count": 166,
   "id": "7fe79f47-7e5e-4844-b023-32ffcbde5c7a",
   "metadata": {},
   "outputs": [],
   "source": [
    "l6 = [2,3,4,5,6,2,3,4,5,5,6,2,2,5,2,3,4,5,'arun','Arun']"
   ]
  },
  {
   "cell_type": "code",
   "execution_count": 167,
   "id": "31cde43d-db30-4f53-9117-b605da348341",
   "metadata": {},
   "outputs": [
    {
     "data": {
      "text/plain": [
       "[2, 3, 4, 5, 6, 2, 3, 4, 5, 5, 6, 2, 2, 5, 2, 3, 4, 5, 'arun', 'Arun']"
      ]
     },
     "execution_count": 167,
     "metadata": {},
     "output_type": "execute_result"
    }
   ],
   "source": [
    "l6"
   ]
  },
  {
   "cell_type": "code",
   "execution_count": 162,
   "id": "0f499d68-271e-480f-bcfc-dfc3b2370960",
   "metadata": {},
   "outputs": [],
   "source": [
    "l6=list(set(l6)"
   ]
  },
  {
   "cell_type": "code",
   "execution_count": 163,
   "id": "5c434054-f553-430d-979a-d2b618ca5efc",
   "metadata": {},
   "outputs": [
    {
     "data": {
      "text/plain": [
       "[2, 3, 4, 5, 6, 'Arun', 'arun']"
      ]
     },
     "execution_count": 163,
     "metadata": {},
     "output_type": "execute_result"
    }
   ],
   "source": [
    "l6"
   ]
  },
  {
   "cell_type": "code",
   "execution_count": 168,
   "id": "c299eb91-b02a-480e-b0cb-9cc7e1546b7b",
   "metadata": {},
   "outputs": [],
   "source": [
    "s5 = {234,45,6,88,783,'arun',456,342,68}"
   ]
  },
  {
   "cell_type": "code",
   "execution_count": 169,
   "id": "89aa9dae-044d-4a02-ae11-7d927265fa0b",
   "metadata": {},
   "outputs": [
    {
     "data": {
      "text/plain": [
       "{234, 342, 45, 456, 6, 68, 783, 88, 'arun'}"
      ]
     },
     "execution_count": 169,
     "metadata": {},
     "output_type": "execute_result"
    }
   ],
   "source": [
    "s5"
   ]
  },
  {
   "cell_type": "code",
   "execution_count": 170,
   "id": "c956ac30-2649-42a0-9148-622b438e66d1",
   "metadata": {},
   "outputs": [
    {
     "data": {
      "text/plain": [
       "{234, 342, 45, 456, 6, 68, 783, 88, 'arun'}"
      ]
     },
     "execution_count": 170,
     "metadata": {},
     "output_type": "execute_result"
    }
   ],
   "source": [
    "s5"
   ]
  },
  {
   "cell_type": "code",
   "execution_count": 171,
   "id": "13acbec4-310e-4767-9130-fad303f6b245",
   "metadata": {},
   "outputs": [
    {
     "ename": "TypeError",
     "evalue": "'set' object is not subscriptable",
     "output_type": "error",
     "traceback": [
      "\u001b[1;31m---------------------------------------------------------------------------\u001b[0m",
      "\u001b[1;31mTypeError\u001b[0m                                 Traceback (most recent call last)",
      "Cell \u001b[1;32mIn[171], line 1\u001b[0m\n\u001b[1;32m----> 1\u001b[0m \u001b[43ms5\u001b[49m\u001b[43m[\u001b[49m\u001b[38;5;241;43m0\u001b[39;49m\u001b[43m]\u001b[49m\n",
      "\u001b[1;31mTypeError\u001b[0m: 'set' object is not subscriptable"
     ]
    }
   ],
   "source": [
    "s5[0]"
   ]
  },
  {
   "cell_type": "code",
   "execution_count": 173,
   "id": "6c245e28-6c4e-48d3-99b7-156f3d07da43",
   "metadata": {},
   "outputs": [
    {
     "ename": "TypeError",
     "evalue": "'set' object is not subscriptable",
     "output_type": "error",
     "traceback": [
      "\u001b[1;31m---------------------------------------------------------------------------\u001b[0m",
      "\u001b[1;31mTypeError\u001b[0m                                 Traceback (most recent call last)",
      "Cell \u001b[1;32mIn[173], line 1\u001b[0m\n\u001b[1;32m----> 1\u001b[0m \u001b[43ms5\u001b[49m\u001b[43m[\u001b[49m\u001b[43m:\u001b[49m\u001b[43m:\u001b[49m\u001b[38;5;241;43m1\u001b[39;49m\u001b[43m]\u001b[49m\n",
      "\u001b[1;31mTypeError\u001b[0m: 'set' object is not subscriptable"
     ]
    }
   ],
   "source": [
    "s5[::1]"
   ]
  },
  {
   "cell_type": "code",
   "execution_count": 174,
   "id": "2f7436e9-c21e-442d-8782-8160f0ed2e69",
   "metadata": {},
   "outputs": [
    {
     "data": {
      "text/plain": [
       "{234, 342, 45, 456, 6, 68, 783, 88, 'arun'}"
      ]
     },
     "execution_count": 174,
     "metadata": {},
     "output_type": "execute_result"
    }
   ],
   "source": [
    "s5"
   ]
  },
  {
   "cell_type": "code",
   "execution_count": 175,
   "id": "b8069927-578d-412e-b14c-7394d788ec97",
   "metadata": {},
   "outputs": [],
   "source": [
    "s5.add(4)"
   ]
  },
  {
   "cell_type": "code",
   "execution_count": 176,
   "id": "1a636c51-2ebe-4d03-9afd-04249fffcbc7",
   "metadata": {},
   "outputs": [
    {
     "data": {
      "text/plain": [
       "{234, 342, 4, 45, 456, 6, 68, 783, 88, 'arun'}"
      ]
     },
     "execution_count": 176,
     "metadata": {},
     "output_type": "execute_result"
    }
   ],
   "source": [
    "s5"
   ]
  },
  {
   "cell_type": "code",
   "execution_count": 177,
   "id": "2f526ad3-a1a6-45bf-9262-6f209d2cac38",
   "metadata": {},
   "outputs": [],
   "source": [
    "s5.remove(6)"
   ]
  },
  {
   "cell_type": "code",
   "execution_count": 178,
   "id": "2ea5dcc2-1aa2-4c13-b431-c13dcc2469ea",
   "metadata": {},
   "outputs": [
    {
     "data": {
      "text/plain": [
       "{234, 342, 4, 45, 456, 68, 783, 88, 'arun'}"
      ]
     },
     "execution_count": 178,
     "metadata": {},
     "output_type": "execute_result"
    }
   ],
   "source": [
    "s5"
   ]
  },
  {
   "cell_type": "code",
   "execution_count": null,
   "id": "e68b57e8-b38a-4e0d-a32a-5576959ccb27",
   "metadata": {},
   "outputs": [],
   "source": []
  }
 ],
 "metadata": {
  "kernelspec": {
   "display_name": "Python 3 (ipykernel)",
   "language": "python",
   "name": "python3"
  },
  "language_info": {
   "codemirror_mode": {
    "name": "ipython",
    "version": 3
   },
   "file_extension": ".py",
   "mimetype": "text/x-python",
   "name": "python",
   "nbconvert_exporter": "python",
   "pygments_lexer": "ipython3",
   "version": "3.12.3"
  }
 },
 "nbformat": 4,
 "nbformat_minor": 5
}
