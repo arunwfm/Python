{
 "cells": [
  {
   "cell_type": "code",
   "execution_count": 1,
   "id": "689063fd-baa6-4a98-a9e8-ccb09e85c044",
   "metadata": {},
   "outputs": [],
   "source": [
    "l = [1,2,3,4,5]"
   ]
  },
  {
   "cell_type": "code",
   "execution_count": 5,
   "id": "cf9a32e3-7dbb-4abd-8e9e-6ce4eb3063f6",
   "metadata": {},
   "outputs": [
    {
     "name": "stdout",
     "output_type": "stream",
     "text": [
      "1 <class 'int'>\n",
      "2 <class 'int'>\n",
      "3 <class 'int'>\n",
      "4 <class 'int'>\n",
      "5 <class 'int'>\n"
     ]
    }
   ],
   "source": [
    "for i in l:\n",
    "    print(i, type(i))"
   ]
  },
  {
   "cell_type": "code",
   "execution_count": 6,
   "id": "fb41aa02-b169-4e3e-b187-cfca369d248b",
   "metadata": {},
   "outputs": [],
   "source": [
    "l1 = ['Arun', 'kumar', 'singh', 'Manisha']"
   ]
  },
  {
   "cell_type": "code",
   "execution_count": 7,
   "id": "84688e75-df87-42db-9c6e-98fde9aaecbd",
   "metadata": {},
   "outputs": [
    {
     "name": "stdout",
     "output_type": "stream",
     "text": [
      "Arun\n",
      "kumar\n",
      "singh\n",
      "Manisha\n"
     ]
    }
   ],
   "source": [
    "for i in l1:\n",
    "    print(i)"
   ]
  },
  {
   "cell_type": "code",
   "execution_count": 8,
   "id": "287fa8cd-5d43-488c-b51f-50d61b08ebba",
   "metadata": {},
   "outputs": [
    {
     "data": {
      "text/plain": [
       "['Arun', 'kumar', 'singh', 'Manisha']"
      ]
     },
     "execution_count": 8,
     "metadata": {},
     "output_type": "execute_result"
    }
   ],
   "source": [
    "l1"
   ]
  },
  {
   "cell_type": "code",
   "execution_count": 11,
   "id": "03332165-5b9b-4b36-86a3-9a44041ffdc8",
   "metadata": {},
   "outputs": [
    {
     "name": "stdout",
     "output_type": "stream",
     "text": [
      "Arun\n",
      "kumar\n",
      "singh\n",
      "Manisha\n",
      "If for loop is able to complete itself then only else will execute\n"
     ]
    }
   ],
   "source": [
    "for i in l1:\n",
    "    print(i)\n",
    "else:\n",
    "    print(\"If for loop is able to complete itself then only else will execute\")"
   ]
  },
  {
   "cell_type": "code",
   "execution_count": 12,
   "id": "1e69b4de-2bd4-49fb-ab44-ca0cd74f8e56",
   "metadata": {},
   "outputs": [
    {
     "data": {
      "text/plain": [
       "['Arun', 'kumar', 'singh', 'Manisha']"
      ]
     },
     "execution_count": 12,
     "metadata": {},
     "output_type": "execute_result"
    }
   ],
   "source": [
    "l1"
   ]
  },
  {
   "cell_type": "code",
   "execution_count": 13,
   "id": "4f30d53a-8460-486e-8a39-4cc723ab5c3f",
   "metadata": {},
   "outputs": [
    {
     "name": "stdout",
     "output_type": "stream",
     "text": [
      "Arun\n"
     ]
    }
   ],
   "source": [
    "for i in l1:\n",
    "    if i == 'kumar':\n",
    "        break\n",
    "    print(i)"
   ]
  },
  {
   "cell_type": "code",
   "execution_count": 14,
   "id": "ff80e647-4a6a-4c3f-95d9-3cfca058c665",
   "metadata": {},
   "outputs": [
    {
     "data": {
      "text/plain": [
       "['Arun', 'kumar', 'singh', 'Manisha']"
      ]
     },
     "execution_count": 14,
     "metadata": {},
     "output_type": "execute_result"
    }
   ],
   "source": [
    "l1"
   ]
  },
  {
   "cell_type": "code",
   "execution_count": 16,
   "id": "6c4f7eda-47f4-4f28-8c91-903f2fc62a4c",
   "metadata": {},
   "outputs": [
    {
     "name": "stdout",
     "output_type": "stream",
     "text": [
      "Arun\n"
     ]
    }
   ],
   "source": [
    "for i in l1:\n",
    "    if i == 'kumar':\n",
    "        break\n",
    "    print(i)\n",
    "else:\n",
    "    print(\"execute this if for loop is able to complete itself\")"
   ]
  },
  {
   "cell_type": "code",
   "execution_count": 17,
   "id": "dbcbb7c0-266f-43d3-918a-031e0ef74d77",
   "metadata": {},
   "outputs": [
    {
     "data": {
      "text/plain": [
       "['Arun', 'kumar', 'singh', 'Manisha']"
      ]
     },
     "execution_count": 17,
     "metadata": {},
     "output_type": "execute_result"
    }
   ],
   "source": [
    "l1"
   ]
  },
  {
   "cell_type": "code",
   "execution_count": 19,
   "id": "5464115b-4ac8-4b55-b696-fd9ef2e6f87c",
   "metadata": {},
   "outputs": [
    {
     "name": "stdout",
     "output_type": "stream",
     "text": [
      "Arun\n",
      "singh\n",
      "Manisha\n"
     ]
    }
   ],
   "source": [
    "for i in l1:\n",
    "    if i == 'kumar':\n",
    "        continue\n",
    "    print(i)     \n",
    "    "
   ]
  },
  {
   "cell_type": "code",
   "execution_count": 21,
   "id": "a7b050bd-e7bb-4bb4-a50a-67a6e0a77c82",
   "metadata": {},
   "outputs": [
    {
     "name": "stdout",
     "output_type": "stream",
     "text": [
      "Arun\n",
      "singh\n",
      "Manisha\n",
      "execute this if for loop is able to complete itself\n"
     ]
    }
   ],
   "source": [
    "for i in l1:\n",
    "    if i == 'kumar':\n",
    "        continue\n",
    "    print(i)\n",
    "print(\"execute this if for loop is able to complete itself\")"
   ]
  },
  {
   "cell_type": "code",
   "execution_count": 22,
   "id": "f836070b-5e51-4ea5-b1d0-e92071e5c650",
   "metadata": {},
   "outputs": [
    {
     "data": {
      "text/plain": [
       "range(0, 5)"
      ]
     },
     "execution_count": 22,
     "metadata": {},
     "output_type": "execute_result"
    }
   ],
   "source": [
    "range(5)"
   ]
  },
  {
   "cell_type": "code",
   "execution_count": 24,
   "id": "fe38052f-929b-492f-8038-d56c491417a2",
   "metadata": {},
   "outputs": [
    {
     "data": {
      "text/plain": [
       "[0, 1, 2, 3, 4]"
      ]
     },
     "execution_count": 24,
     "metadata": {},
     "output_type": "execute_result"
    }
   ],
   "source": [
    "list(range(5))"
   ]
  },
  {
   "cell_type": "code",
   "execution_count": 26,
   "id": "58705db0-b4d6-4dc1-bed4-0ab9ab80ceb8",
   "metadata": {},
   "outputs": [
    {
     "data": {
      "text/plain": [
       "[0, 1, 2, 3, 4]"
      ]
     },
     "execution_count": 26,
     "metadata": {},
     "output_type": "execute_result"
    }
   ],
   "source": [
    "list(range(0,5,1))"
   ]
  },
  {
   "cell_type": "code",
   "execution_count": 28,
   "id": "e798fa11-2c35-4c57-ba6a-4320378589e8",
   "metadata": {},
   "outputs": [
    {
     "data": {
      "text/plain": [
       "[0, 2, 4, 6, 8, 10, 12, 14, 16, 18]"
      ]
     },
     "execution_count": 28,
     "metadata": {},
     "output_type": "execute_result"
    }
   ],
   "source": [
    "list(range(0,20,2))"
   ]
  },
  {
   "cell_type": "code",
   "execution_count": 29,
   "id": "7bff7eec-fbf4-40b5-9a46-ccfc3f6c0979",
   "metadata": {},
   "outputs": [
    {
     "data": {
      "text/plain": [
       "[-10, -9, -8, -7, -6, -5, -4, -3, -2, -1]"
      ]
     },
     "execution_count": 29,
     "metadata": {},
     "output_type": "execute_result"
    }
   ],
   "source": [
    "list(range(-10,0))"
   ]
  },
  {
   "cell_type": "code",
   "execution_count": 30,
   "id": "a15238ab-3794-4016-ab21-52e32913a1c9",
   "metadata": {},
   "outputs": [
    {
     "data": {
      "text/plain": [
       "['Arun', 'kumar', 'singh', 'Manisha']"
      ]
     },
     "execution_count": 30,
     "metadata": {},
     "output_type": "execute_result"
    }
   ],
   "source": [
    "l1"
   ]
  },
  {
   "cell_type": "code",
   "execution_count": 31,
   "id": "5e61609b-7609-4aab-b4ad-141edec8e5d6",
   "metadata": {},
   "outputs": [],
   "source": [
    "#reverse order using for loop"
   ]
  },
  {
   "cell_type": "code",
   "execution_count": 35,
   "id": "196b442c-f2d0-463e-b696-ed907ad53a44",
   "metadata": {},
   "outputs": [
    {
     "name": "stdout",
     "output_type": "stream",
     "text": [
      "Arun\n",
      "kumar\n",
      "singh\n",
      "Manisha\n"
     ]
    }
   ],
   "source": [
    "for i in range(len(l1)):\n",
    "    print(l1[i])"
   ]
  },
  {
   "cell_type": "code",
   "execution_count": 37,
   "id": "8cc63cd0-84c0-4763-bca0-efc7eca9443e",
   "metadata": {},
   "outputs": [
    {
     "data": {
      "text/plain": [
       "4"
      ]
     },
     "execution_count": 37,
     "metadata": {},
     "output_type": "execute_result"
    }
   ],
   "source": [
    "len(l1)"
   ]
  },
  {
   "cell_type": "code",
   "execution_count": 46,
   "id": "1e3a6d0c-b93f-4f87-9dde-2ef12c332965",
   "metadata": {},
   "outputs": [
    {
     "data": {
      "text/plain": [
       "['Arun', 'kumar', 'singh', 'Manisha']"
      ]
     },
     "execution_count": 46,
     "metadata": {},
     "output_type": "execute_result"
    }
   ],
   "source": [
    "l1\n",
    "    "
   ]
  },
  {
   "cell_type": "code",
   "execution_count": 50,
   "id": "32e3186e-c0c1-47da-ab09-81333848b74e",
   "metadata": {},
   "outputs": [
    {
     "data": {
      "text/plain": [
       "[3, 2, 1, 0]"
      ]
     },
     "execution_count": 50,
     "metadata": {},
     "output_type": "execute_result"
    }
   ],
   "source": [
    "list(range(len(l1)-1,-1,-1))"
   ]
  },
  {
   "cell_type": "code",
   "execution_count": 54,
   "id": "417d2dfd-fb21-48de-9266-1526d7d843a6",
   "metadata": {},
   "outputs": [
    {
     "name": "stdout",
     "output_type": "stream",
     "text": [
      "Manisha\n",
      "singh\n",
      "kumar\n",
      "Arun\n"
     ]
    }
   ],
   "source": [
    "for i in range(len(l1)-1,-1,-1):\n",
    "    print(l1[i])"
   ]
  },
  {
   "cell_type": "code",
   "execution_count": 55,
   "id": "b042aef2-a955-457d-8773-1dddd6c88bc3",
   "metadata": {},
   "outputs": [],
   "source": [
    "l2 = [23,5,6,4,67,89,54,22,6,98]"
   ]
  },
  {
   "cell_type": "code",
   "execution_count": 57,
   "id": "8458054e-2c4e-451d-b208-085b5d4d36f4",
   "metadata": {},
   "outputs": [
    {
     "data": {
      "text/plain": [
       "[0, 2, 4, 6, 8]"
      ]
     },
     "execution_count": 57,
     "metadata": {},
     "output_type": "execute_result"
    }
   ],
   "source": [
    "list(range(0,len(l2),2))"
   ]
  },
  {
   "cell_type": "code",
   "execution_count": 58,
   "id": "68c1c32f-717d-48b3-ab38-5d1160bfc3ab",
   "metadata": {},
   "outputs": [
    {
     "name": "stdout",
     "output_type": "stream",
     "text": [
      "23\n",
      "6\n",
      "67\n",
      "54\n",
      "6\n"
     ]
    }
   ],
   "source": [
    "for i in range(0,len(l2),2):\n",
    "    print(l2[i])"
   ]
  },
  {
   "cell_type": "code",
   "execution_count": 59,
   "id": "107bb3cc-af8b-4984-ab32-d4309d977869",
   "metadata": {},
   "outputs": [],
   "source": [
    "# sum the all elements of list"
   ]
  },
  {
   "cell_type": "code",
   "execution_count": 62,
   "id": "ffca57e9-092d-4e46-b717-3af080cc86bb",
   "metadata": {},
   "outputs": [],
   "source": [
    "l = [1,2,3,4,5,6,7,98]"
   ]
  },
  {
   "cell_type": "code",
   "execution_count": 63,
   "id": "888c65e3-844d-49bd-91c5-d6481ad4fd66",
   "metadata": {},
   "outputs": [
    {
     "data": {
      "text/plain": [
       "126"
      ]
     },
     "execution_count": 63,
     "metadata": {},
     "output_type": "execute_result"
    }
   ],
   "source": [
    "sum(l)"
   ]
  },
  {
   "cell_type": "code",
   "execution_count": 66,
   "id": "021b0ca8-23f7-48ef-8525-808f6605cd4a",
   "metadata": {},
   "outputs": [
    {
     "data": {
      "text/plain": [
       "126"
      ]
     },
     "execution_count": 66,
     "metadata": {},
     "output_type": "execute_result"
    }
   ],
   "source": [
    "result = 0\n",
    "for i in l:\n",
    "    result = result+i\n",
    "result\n",
    "    "
   ]
  },
  {
   "cell_type": "code",
   "execution_count": 67,
   "id": "d725aafc-f9e1-4037-84d3-0f4a79e6bf31",
   "metadata": {},
   "outputs": [],
   "source": [
    "# sum the all elements of tuple"
   ]
  },
  {
   "cell_type": "code",
   "execution_count": 70,
   "id": "93f6cf85-46f1-4a28-971e-5ecc46fc5608",
   "metadata": {},
   "outputs": [],
   "source": [
    "t = (1,2,3,4,4,5)"
   ]
  },
  {
   "cell_type": "code",
   "execution_count": 71,
   "id": "d89c91a2-2f23-4045-bfef-033933ca7cfb",
   "metadata": {},
   "outputs": [
    {
     "data": {
      "text/plain": [
       "19"
      ]
     },
     "execution_count": 71,
     "metadata": {},
     "output_type": "execute_result"
    }
   ],
   "source": [
    "sum(t)"
   ]
  },
  {
   "cell_type": "code",
   "execution_count": 72,
   "id": "69c7613b-ec5d-45f0-bd8a-89b30b87ad98",
   "metadata": {},
   "outputs": [],
   "source": [
    "#iteration of data from set"
   ]
  },
  {
   "cell_type": "code",
   "execution_count": 74,
   "id": "665bc113-03a6-4d47-af57-058677825a91",
   "metadata": {},
   "outputs": [],
   "source": [
    "s = {1,2,3,4,5,'arun', 'kumar'}"
   ]
  },
  {
   "cell_type": "code",
   "execution_count": 76,
   "id": "07f6319a-1d9c-4cc0-a72c-05c6a1f060a9",
   "metadata": {},
   "outputs": [
    {
     "name": "stdout",
     "output_type": "stream",
     "text": [
      "1\n",
      "2\n",
      "3\n",
      "4\n",
      "5\n",
      "kumar\n",
      "arun\n"
     ]
    }
   ],
   "source": [
    "for i in s:\n",
    "    print(i)"
   ]
  },
  {
   "cell_type": "code",
   "execution_count": 77,
   "id": "3f927b8d-33f0-42ee-bca3-92b928f820dc",
   "metadata": {},
   "outputs": [],
   "source": [
    "#iteratio of string"
   ]
  },
  {
   "cell_type": "code",
   "execution_count": 78,
   "id": "f15393bb-a52b-4c8b-b1f8-946e46f671ee",
   "metadata": {},
   "outputs": [],
   "source": [
    "s1 = 'Arunkumar'"
   ]
  },
  {
   "cell_type": "code",
   "execution_count": 79,
   "id": "a7b1a154-b765-498d-93e2-714b01ae5821",
   "metadata": {},
   "outputs": [
    {
     "name": "stdout",
     "output_type": "stream",
     "text": [
      "A\n",
      "r\n",
      "u\n",
      "n\n",
      "k\n",
      "u\n",
      "m\n",
      "a\n",
      "r\n"
     ]
    }
   ],
   "source": [
    "for i in s1:\n",
    "    print(i)"
   ]
  },
  {
   "cell_type": "code",
   "execution_count": 80,
   "id": "1adc6f7e-f568-4fc8-a53b-a5d03ca81c93",
   "metadata": {},
   "outputs": [],
   "source": [
    "#iteratio of Dictionary"
   ]
  },
  {
   "cell_type": "code",
   "execution_count": 81,
   "id": "a3f75c5e-7e19-4e67-9e3c-1c05b0c9b94a",
   "metadata": {},
   "outputs": [],
   "source": [
    "d = {'name': 'arun', 'class': 'data science', 'topics': ['python', 'stats', 'machine learning','deep learning', 'computer vision', 'NLP', 'resume', 'interview']}"
   ]
  },
  {
   "cell_type": "code",
   "execution_count": 82,
   "id": "a7ee24f9-2776-4914-b30b-5edbd8af3a2e",
   "metadata": {},
   "outputs": [
    {
     "data": {
      "text/plain": [
       "{'name': 'arun',\n",
       " 'class': 'data science',\n",
       " 'topics': ['python',\n",
       "  'stats',\n",
       "  'machine learning',\n",
       "  'deep learning',\n",
       "  'computer vision',\n",
       "  'NLP',\n",
       "  'resume',\n",
       "  'interview']}"
      ]
     },
     "execution_count": 82,
     "metadata": {},
     "output_type": "execute_result"
    }
   ],
   "source": [
    "d"
   ]
  },
  {
   "cell_type": "code",
   "execution_count": 83,
   "id": "f9fc487d-43a6-499d-a014-0bd3be700caa",
   "metadata": {},
   "outputs": [
    {
     "data": {
      "text/plain": [
       "dict_keys(['name', 'class', 'topics'])"
      ]
     },
     "execution_count": 83,
     "metadata": {},
     "output_type": "execute_result"
    }
   ],
   "source": [
    "d.keys()"
   ]
  },
  {
   "cell_type": "code",
   "execution_count": 87,
   "id": "f0865617-c50e-41c6-b4ab-126669cf44cb",
   "metadata": {},
   "outputs": [
    {
     "name": "stdout",
     "output_type": "stream",
     "text": [
      "arun\n",
      "data science\n",
      "['python', 'stats', 'machine learning', 'deep learning', 'computer vision', 'NLP', 'resume', 'interview']\n"
     ]
    }
   ],
   "source": [
    "for i in d.keys():\n",
    "    print(d[i])"
   ]
  },
  {
   "cell_type": "code",
   "execution_count": 89,
   "id": "4e763e7f-3292-4bdb-8507-0711d8888b60",
   "metadata": {},
   "outputs": [
    {
     "data": {
      "text/plain": [
       "dict_values(['arun', 'data science', ['python', 'stats', 'machine learning', 'deep learning', 'computer vision', 'NLP', 'resume', 'interview']])"
      ]
     },
     "execution_count": 89,
     "metadata": {},
     "output_type": "execute_result"
    }
   ],
   "source": [
    "d.values()"
   ]
  },
  {
   "cell_type": "code",
   "execution_count": 91,
   "id": "4b8c355c-ebe6-40d6-87a1-30f9ed0566c6",
   "metadata": {},
   "outputs": [
    {
     "name": "stdout",
     "output_type": "stream",
     "text": [
      "arun\n",
      "data science\n",
      "['python', 'stats', 'machine learning', 'deep learning', 'computer vision', 'NLP', 'resume', 'interview']\n"
     ]
    }
   ],
   "source": [
    "for i in d.values():\n",
    "    print(i)"
   ]
  },
  {
   "cell_type": "code",
   "execution_count": 92,
   "id": "f921c3d0-8c25-4727-af3b-064763ae823e",
   "metadata": {},
   "outputs": [
    {
     "data": {
      "text/plain": [
       "dict_items([('name', 'arun'), ('class', 'data science'), ('topics', ['python', 'stats', 'machine learning', 'deep learning', 'computer vision', 'NLP', 'resume', 'interview'])])"
      ]
     },
     "execution_count": 92,
     "metadata": {},
     "output_type": "execute_result"
    }
   ],
   "source": [
    "d.items()"
   ]
  },
  {
   "cell_type": "code",
   "execution_count": 93,
   "id": "0f58e767-8c6f-433a-a078-14577e3c5e69",
   "metadata": {},
   "outputs": [
    {
     "name": "stdout",
     "output_type": "stream",
     "text": [
      "('name', 'arun')\n",
      "('class', 'data science')\n",
      "('topics', ['python', 'stats', 'machine learning', 'deep learning', 'computer vision', 'NLP', 'resume', 'interview'])\n"
     ]
    }
   ],
   "source": [
    "for i in d.items():\n",
    "    print(i)"
   ]
  },
  {
   "cell_type": "code",
   "execution_count": null,
   "id": "be59b092-09cf-4a4c-9449-8ceb7a6659ca",
   "metadata": {},
   "outputs": [],
   "source": []
  }
 ],
 "metadata": {
  "kernelspec": {
   "display_name": "Python 3 (ipykernel)",
   "language": "python",
   "name": "python3"
  },
  "language_info": {
   "codemirror_mode": {
    "name": "ipython",
    "version": 3
   },
   "file_extension": ".py",
   "mimetype": "text/x-python",
   "name": "python",
   "nbconvert_exporter": "python",
   "pygments_lexer": "ipython3",
   "version": "3.12.3"
  }
 },
 "nbformat": 4,
 "nbformat_minor": 5
}
